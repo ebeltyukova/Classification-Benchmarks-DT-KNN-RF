{
 "cells": [
  {
   "cell_type": "code",
   "execution_count": 65,
   "metadata": {},
   "outputs": [
    {
     "name": "stdout",
     "output_type": "stream",
     "text": [
      "{'uci_id': 244, 'name': 'Fertility', 'repository_url': 'https://archive.ics.uci.edu/dataset/244/fertility', 'data_url': 'https://archive.ics.uci.edu/static/public/244/data.csv', 'abstract': '100 volunteers provide a semen sample analyzed according to the WHO 2010 criteria. Sperm concentration are related to socio-demographic data, environmental factors, health status, and life habits', 'area': 'Health and Medicine', 'tasks': ['Classification', 'Regression'], 'characteristics': ['Multivariate'], 'num_instances': 100, 'num_features': 9, 'feature_types': ['Real'], 'demographics': ['Age'], 'target_col': ['diagnosis'], 'index_col': None, 'has_missing_values': 'no', 'missing_values_symbol': None, 'year_of_dataset_creation': 2012, 'last_updated': 'Fri Mar 15 2024', 'dataset_doi': '10.24432/C5Z01Z', 'creators': ['David Gil', 'Jose Girela'], 'intro_paper': {'ID': 429, 'type': 'NATIVE', 'title': 'Predicting seminal quality with artificial intelligence methods', 'authors': 'David Gil, J. L. Girela, Joaquin De Juan, M. Jose Gomez-Torres, Magnus Johnsson', 'venue': 'Expert systems with applications', 'year': 2012, 'journal': None, 'DOI': None, 'URL': 'https://www.semanticscholar.org/paper/Predicting-seminal-quality-with-artificial-methods-Gil-Girela/92759c5ee08b9e6e7b17d1ccd48a7f8c02aba893', 'sha': None, 'corpus': None, 'arxiv': None, 'mag': None, 'acl': None, 'pmid': None, 'pmcid': None}, 'additional_info': {'summary': None, 'purpose': None, 'funded_by': None, 'instances_represent': None, 'recommended_data_splits': None, 'sensitive_data': None, 'preprocessing_description': None, 'variable_info': 'Season in which the analysis was performed. \\t1) winter, 2) spring, 3) Summer, 4) fall. \\t(-1, -0.33, 0.33, 1) \\r\\n\\r\\nAge at the time of analysis. \\t18-36 \\t(0, 1) \\r\\n\\r\\nChildish diseases (ie , chicken pox, measles, mumps, polio)\\t1) yes, 2) no. \\t(0, 1) \\r\\n\\r\\nAccident or serious trauma \\t1) yes, 2) no. \\t(0, 1) \\r\\n\\r\\nSurgical intervention \\t1) yes, 2) no. \\t(0, 1) \\r\\n\\r\\nHigh fevers in the last year \\t1) less than three months ago, 2) more than three months ago, 3) no. \\t(-1, 0, 1) \\r\\n\\r\\nFrequency of alcohol consumption \\t1) several times a day, 2) every day, 3) several times a week, 4) once a week, 5) hardly ever or never \\t(0, 1) \\r\\n\\r\\nSmoking habit \\t1) never, 2) occasional 3) daily. \\t(-1, 0, 1) \\r\\n\\r\\nNumber of hours spent sitting per day \\tene-16\\t(0, 1) \\r\\n\\r\\nOutput: Diagnosis\\tnormal (N), altered (O)\\t\\r\\n', 'citation': None}}\n",
      "                    name     role         type demographic description units  \\\n",
      "0                 season  Feature   Continuous        None        None  None   \n",
      "1                    age  Feature      Integer         Age        None  None   \n",
      "2         child_diseases  Feature       Binary        None        None  None   \n",
      "3               accident  Feature       Binary        None        None  None   \n",
      "4  surgical_intervention  Feature       Binary        None        None  None   \n",
      "5            high_fevers  Feature  Categorical        None        None  None   \n",
      "6                alcohol  Feature  Categorical        None        None  None   \n",
      "7                smoking  Feature  Categorical        None        None  None   \n",
      "8            hrs_sitting  Feature      Integer        None        None  None   \n",
      "9              diagnosis   Target       Binary        None        None  None   \n",
      "\n",
      "  missing_values  \n",
      "0             no  \n",
      "1             no  \n",
      "2             no  \n",
      "3             no  \n",
      "4             no  \n",
      "5             no  \n",
      "6             no  \n",
      "7             no  \n",
      "8             no  \n",
      "9             no  \n"
     ]
    }
   ],
   "source": [
    "from ucimlrepo import fetch_ucirepo \n",
    "import numpy as np\n",
    "import matplotlib.pyplot as plt\n",
    "from sklearn import datasets\n",
    "\n",
    "from sklearn.tree import DecisionTreeClassifier\n",
    "from sklearn import tree\n",
    "from sklearn.model_selection import train_test_split, KFold, cross_val_score\n",
    "  \n",
    "# fetch dataset \n",
    "fertility = fetch_ucirepo(id=244) \n",
    "  \n",
    "# data (as pandas dataframes) \n",
    "X = fertility.data.features \n",
    "y = fertility.data.targets \n",
    "  \n",
    "# metadata \n",
    "print(fertility.metadata) \n",
    "  \n",
    "# variable information \n",
    "print(fertility.variables) \n"
   ]
  },
  {
   "cell_type": "code",
   "execution_count": 66,
   "metadata": {},
   "outputs": [],
   "source": [
    "\n",
    "\"\"\" y[y['diagnosis'] == \"N\"] = 1 \n",
    "y[y['diagnosis'] == \"O\"] = -1  \"\"\"\n",
    "\n",
    "#y.loc[:, 'diagnosis'] = y['diagnosis'].replace({'N': 1, 'O': -1})\n",
    "#y = y.astype(float)\n",
    "\n",
    "y = (y['diagnosis'] == 'N').astype(float)\n",
    "y[y == 0] = -1\n",
    "\n",
    "# Convert to numpy array and reshape to ensure it's a column vector\n",
    "# y = y.values.reshape(-1, 1)"
   ]
  },
  {
   "cell_type": "code",
   "execution_count": 67,
   "metadata": {},
   "outputs": [
    {
     "data": {
      "text/plain": [
       "0     1.0\n",
       "1    -1.0\n",
       "2     1.0\n",
       "3     1.0\n",
       "4    -1.0\n",
       "     ... \n",
       "95    1.0\n",
       "96    1.0\n",
       "97    1.0\n",
       "98    1.0\n",
       "99    1.0\n",
       "Name: diagnosis, Length: 100, dtype: float64"
      ]
     },
     "execution_count": 67,
     "metadata": {},
     "output_type": "execute_result"
    }
   ],
   "source": [
    "y"
   ]
  },
  {
   "cell_type": "code",
   "execution_count": 68,
   "metadata": {},
   "outputs": [],
   "source": [
    "\n",
    "# Convert to numpy array and reshape to ensure it's a column vector\n",
    "\n",
    "y = y.values.reshape(-1, 1)\n",
    "#y = np.array(y)\n"
   ]
  },
  {
   "cell_type": "code",
   "execution_count": 69,
   "metadata": {},
   "outputs": [
    {
     "data": {
      "text/plain": [
       "array([[ 1.],\n",
       "       [-1.],\n",
       "       [ 1.],\n",
       "       [ 1.],\n",
       "       [-1.],\n",
       "       [ 1.],\n",
       "       [ 1.],\n",
       "       [ 1.],\n",
       "       [ 1.],\n",
       "       [ 1.],\n",
       "       [ 1.],\n",
       "       [ 1.],\n",
       "       [ 1.],\n",
       "       [ 1.],\n",
       "       [ 1.],\n",
       "       [ 1.],\n",
       "       [ 1.],\n",
       "       [-1.],\n",
       "       [ 1.],\n",
       "       [-1.],\n",
       "       [ 1.],\n",
       "       [ 1.],\n",
       "       [ 1.],\n",
       "       [-1.],\n",
       "       [ 1.],\n",
       "       [ 1.],\n",
       "       [-1.],\n",
       "       [-1.],\n",
       "       [ 1.],\n",
       "       [-1.],\n",
       "       [ 1.],\n",
       "       [ 1.],\n",
       "       [ 1.],\n",
       "       [ 1.],\n",
       "       [ 1.],\n",
       "       [ 1.],\n",
       "       [ 1.],\n",
       "       [ 1.],\n",
       "       [-1.],\n",
       "       [ 1.],\n",
       "       [ 1.],\n",
       "       [ 1.],\n",
       "       [ 1.],\n",
       "       [ 1.],\n",
       "       [ 1.],\n",
       "       [ 1.],\n",
       "       [ 1.],\n",
       "       [ 1.],\n",
       "       [ 1.],\n",
       "       [ 1.],\n",
       "       [ 1.],\n",
       "       [ 1.],\n",
       "       [ 1.],\n",
       "       [ 1.],\n",
       "       [ 1.],\n",
       "       [ 1.],\n",
       "       [ 1.],\n",
       "       [ 1.],\n",
       "       [ 1.],\n",
       "       [ 1.],\n",
       "       [ 1.],\n",
       "       [ 1.],\n",
       "       [ 1.],\n",
       "       [ 1.],\n",
       "       [ 1.],\n",
       "       [ 1.],\n",
       "       [ 1.],\n",
       "       [ 1.],\n",
       "       [ 1.],\n",
       "       [ 1.],\n",
       "       [-1.],\n",
       "       [ 1.],\n",
       "       [ 1.],\n",
       "       [ 1.],\n",
       "       [ 1.],\n",
       "       [ 1.],\n",
       "       [ 1.],\n",
       "       [ 1.],\n",
       "       [ 1.],\n",
       "       [ 1.],\n",
       "       [ 1.],\n",
       "       [ 1.],\n",
       "       [ 1.],\n",
       "       [ 1.],\n",
       "       [-1.],\n",
       "       [ 1.],\n",
       "       [ 1.],\n",
       "       [ 1.],\n",
       "       [ 1.],\n",
       "       [ 1.],\n",
       "       [ 1.],\n",
       "       [ 1.],\n",
       "       [ 1.],\n",
       "       [-1.],\n",
       "       [ 1.],\n",
       "       [ 1.],\n",
       "       [ 1.],\n",
       "       [ 1.],\n",
       "       [ 1.],\n",
       "       [ 1.]])"
      ]
     },
     "execution_count": 69,
     "metadata": {},
     "output_type": "execute_result"
    }
   ],
   "source": [
    "y"
   ]
  },
  {
   "cell_type": "code",
   "execution_count": 70,
   "metadata": {},
   "outputs": [
    {
     "name": "stdout",
     "output_type": "stream",
     "text": [
      "(100, 1)\n",
      "(100, 9)\n",
      "[-0.33  0.92  1.    1.    0.    1.    1.   -1.    0.63  1.  ]\n"
     ]
    }
   ],
   "source": [
    "X_and_Y = np.hstack((X, y))     # Stack them together for shuffling.\n",
    "np.random.seed(1)               # Set the random seed.\n",
    "np.random.shuffle(X_and_Y)  \n",
    "\n",
    "print(y.shape)\n",
    "print(X.shape)\n",
    "print(X_and_Y[0])"
   ]
  },
  {
   "cell_type": "code",
   "execution_count": 71,
   "metadata": {},
   "outputs": [
    {
     "name": "stdout",
     "output_type": "stream",
     "text": [
      "Unique values in y: [-1.  1.]\n",
      "float64\n"
     ]
    }
   ],
   "source": [
    "unique_values = np.unique(y)\n",
    "print(\"Unique values in y:\", unique_values)\n",
    "print(y.dtype)  # Check the dtype if y is a NumPy array"
   ]
  },
  {
   "cell_type": "code",
   "execution_count": 72,
   "metadata": {},
   "outputs": [
    {
     "name": "stderr",
     "output_type": "stream",
     "text": [
      "/Users/elizavetabeltyukova/opt/anaconda3/envs/cogs118a/lib/python3.12/site-packages/sklearn/model_selection/_split.py:805: UserWarning: The least populated class in y has only 1 members, which is less than n_splits=10.\n",
      "  warnings.warn(\n",
      "/Users/elizavetabeltyukova/opt/anaconda3/envs/cogs118a/lib/python3.12/site-packages/sklearn/model_selection/_split.py:805: UserWarning: The least populated class in y has only 1 members, which is less than n_splits=10.\n",
      "  warnings.warn(\n"
     ]
    },
    {
     "name": "stdout",
     "output_type": "stream",
     "text": [
      "Partition: 20/100, Trial: 1\n",
      "Train Accuracy: 1.0000\n",
      "Validation Accuracy: 0.9000\n",
      "Test Accuracy: 0.7875\n",
      "Partition: 20/100, Trial: 2\n",
      "Train Accuracy: 1.0000\n",
      "Validation Accuracy: 0.9000\n",
      "Test Accuracy: 0.7875\n"
     ]
    },
    {
     "name": "stderr",
     "output_type": "stream",
     "text": [
      "/Users/elizavetabeltyukova/opt/anaconda3/envs/cogs118a/lib/python3.12/site-packages/sklearn/model_selection/_split.py:805: UserWarning: The least populated class in y has only 1 members, which is less than n_splits=10.\n",
      "  warnings.warn(\n",
      "/Users/elizavetabeltyukova/opt/anaconda3/envs/cogs118a/lib/python3.12/site-packages/sklearn/model_selection/_split.py:805: UserWarning: The least populated class in y has only 5 members, which is less than n_splits=10.\n",
      "  warnings.warn(\n"
     ]
    },
    {
     "name": "stdout",
     "output_type": "stream",
     "text": [
      "Partition: 20/100, Trial: 3\n",
      "Train Accuracy: 1.0000\n",
      "Validation Accuracy: 0.9000\n",
      "Test Accuracy: 0.7875\n",
      "Partition: 50/100, Trial: 1\n",
      "Train Accuracy: 0.9000\n",
      "Validation Accuracy: 0.8400\n",
      "Test Accuracy: 0.8600\n"
     ]
    },
    {
     "name": "stderr",
     "output_type": "stream",
     "text": [
      "/Users/elizavetabeltyukova/opt/anaconda3/envs/cogs118a/lib/python3.12/site-packages/sklearn/model_selection/_split.py:805: UserWarning: The least populated class in y has only 5 members, which is less than n_splits=10.\n",
      "  warnings.warn(\n",
      "/Users/elizavetabeltyukova/opt/anaconda3/envs/cogs118a/lib/python3.12/site-packages/sklearn/model_selection/_split.py:805: UserWarning: The least populated class in y has only 5 members, which is less than n_splits=10.\n",
      "  warnings.warn(\n"
     ]
    },
    {
     "name": "stdout",
     "output_type": "stream",
     "text": [
      "Partition: 50/100, Trial: 2\n",
      "Train Accuracy: 0.9000\n",
      "Validation Accuracy: 0.8400\n",
      "Test Accuracy: 0.8600\n",
      "Partition: 50/100, Trial: 3\n",
      "Train Accuracy: 0.9000\n",
      "Validation Accuracy: 0.8400\n",
      "Test Accuracy: 0.8600\n",
      "Partition: 80/100, Trial: 1\n",
      "Train Accuracy: 0.8750\n",
      "Validation Accuracy: 0.8750\n",
      "Test Accuracy: 0.9000\n",
      "Partition: 80/100, Trial: 2\n",
      "Train Accuracy: 0.8750\n",
      "Validation Accuracy: 0.8750\n",
      "Test Accuracy: 0.9000\n",
      "Partition: 80/100, Trial: 3\n",
      "Train Accuracy: 0.8750\n",
      "Validation Accuracy: 0.8750\n",
      "Test Accuracy: 0.9000\n"
     ]
    }
   ],
   "source": [
    "\n",
    "from sklearn.model_selection import train_test_split, GridSearchCV\n",
    "#import seaborn as sns\n",
    "\n",
    "partitions = [0.2, 0.5, 0.8]\n",
    "\n",
    "for partition in partitions:\n",
    "\n",
    "\n",
    "    for trial in range(3):\n",
    "        X_train, X_test, Y_train, Y_test = train_test_split(X, y, train_size=partition, random_state=0)\n",
    "\n",
    "        D_list = [1, 2, 3, 4, 5]\n",
    "        param_grid = {'max_depth':D_list}\n",
    "        estimator = tree.DecisionTreeClassifier(criterion='entropy', random_state=1)\n",
    "\n",
    "        grid_search = GridSearchCV(estimator, param_grid, cv=10, scoring=\"accuracy\")\n",
    "\n",
    "        grid_search.fit(X_train, Y_train)\n",
    "        \n",
    "        # Get best model and calculate accuracies\n",
    "        train_acc = grid_search.score(X_train, Y_train)\n",
    "        val_acc = grid_search.best_score_\n",
    "        test_acc = grid_search.score(X_test, Y_test)\n",
    "        \n",
    "        # Print results for this trial directly\n",
    "        print(f\"Partition: {partition*100:.0f}/100, Trial: {trial+1}\")\n",
    "        print(f\"Train Accuracy: {train_acc:.4f}\")\n",
    "        print(f\"Validation Accuracy: {val_acc:.4f}\")\n",
    "        print(f\"Test Accuracy: {test_acc:.4f}\")\n",
    "\n",
    "    "
   ]
  },
  {
   "cell_type": "code",
   "execution_count": 73,
   "metadata": {},
   "outputs": [
    {
     "data": {
      "image/png": "[encoded data removed]",
      "text/plain": [
       "<Figure size 200x400 with 2 Axes>"
      ]
     },
     "metadata": {},
     "output_type": "display_data"
    }
   ],
   "source": [
    "import matplotlib.pyplot as plt\n",
    "\n",
    "def draw_heatmap(errors, D_list, title):\n",
    "    plt.figure(figsize=(2, 4))\n",
    "    plt.imshow(errors, cmap='viridis', aspect='auto')\n",
    "    plt.colorbar(label='error')\n",
    "    plt.yticks(range(len(D_list)), D_list)\n",
    "    plt.ylabel('max depth D')\n",
    "    plt.title(title)\n",
    "    \n",
    "    # Add text annotations\n",
    "    for i in range(len(D_list)):\n",
    "        for j in range(errors.shape[1]):\n",
    "            plt.text(j, i, f'{errors[i, j]:.3f}', \n",
    "                     ha='center', va='center', color='white')\n",
    "    \n",
    "    plt.show()\n",
    "\n",
    "# Use the function\n",
    "cross_val_errors = 1 - grid_search.cv_results_['mean_test_score'].reshape(-1, 1)\n",
    "draw_heatmap(cross_val_errors, D_list, title='cross-validation error w.r.t D')"
   ]
  },
  {
   "cell_type": "code",
   "execution_count": null,
   "metadata": {},
   "outputs": [],
   "source": []
  }
 ],
 "metadata": {
  "kernelspec": {
   "display_name": "cogs118a",
   "language": "python",
   "name": "python3"
  },
  "language_info": {
   "codemirror_mode": {
    "name": "ipython",
    "version": 3
   },
   "file_extension": ".py",
   "mimetype": "text/x-python",
   "name": "python",
   "nbconvert_exporter": "python",
   "pygments_lexer": "ipython3",
   "version": "3.12.5"
  }
 },
 "nbformat": 4,
 "nbformat_minor": 2
}
