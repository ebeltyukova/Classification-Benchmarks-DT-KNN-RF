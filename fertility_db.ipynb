{
 "cells": [
  {
   "cell_type": "code",
   "execution_count": 1,
   "metadata": {},
   "outputs": [
    {
     "name": "stdout",
     "output_type": "stream",
     "text": [
      "{'uci_id': 244, 'name': 'Fertility', 'repository_url': 'https://archive.ics.uci.edu/dataset/244/fertility', 'data_url': 'https://archive.ics.uci.edu/static/public/244/data.csv', 'abstract': '100 volunteers provide a semen sample analyzed according to the WHO 2010 criteria. Sperm concentration are related to socio-demographic data, environmental factors, health status, and life habits', 'area': 'Health and Medicine', 'tasks': ['Classification', 'Regression'], 'characteristics': ['Multivariate'], 'num_instances': 100, 'num_features': 9, 'feature_types': ['Real'], 'demographics': ['Age'], 'target_col': ['diagnosis'], 'index_col': None, 'has_missing_values': 'no', 'missing_values_symbol': None, 'year_of_dataset_creation': 2012, 'last_updated': 'Fri Mar 15 2024', 'dataset_doi': '10.24432/C5Z01Z', 'creators': ['David Gil', 'Jose Girela'], 'intro_paper': {'ID': 429, 'type': 'NATIVE', 'title': 'Predicting seminal quality with artificial intelligence methods', 'authors': 'David Gil, J. L. Girela, Joaquin De Juan, M. Jose Gomez-Torres, Magnus Johnsson', 'venue': 'Expert systems with applications', 'year': 2012, 'journal': None, 'DOI': None, 'URL': 'https://www.semanticscholar.org/paper/Predicting-seminal-quality-with-artificial-methods-Gil-Girela/92759c5ee08b9e6e7b17d1ccd48a7f8c02aba893', 'sha': None, 'corpus': None, 'arxiv': None, 'mag': None, 'acl': None, 'pmid': None, 'pmcid': None}, 'additional_info': {'summary': None, 'purpose': None, 'funded_by': None, 'instances_represent': None, 'recommended_data_splits': None, 'sensitive_data': None, 'preprocessing_description': None, 'variable_info': 'Season in which the analysis was performed. \\t1) winter, 2) spring, 3) Summer, 4) fall. \\t(-1, -0.33, 0.33, 1) \\r\\n\\r\\nAge at the time of analysis. \\t18-36 \\t(0, 1) \\r\\n\\r\\nChildish diseases (ie , chicken pox, measles, mumps, polio)\\t1) yes, 2) no. \\t(0, 1) \\r\\n\\r\\nAccident or serious trauma \\t1) yes, 2) no. \\t(0, 1) \\r\\n\\r\\nSurgical intervention \\t1) yes, 2) no. \\t(0, 1) \\r\\n\\r\\nHigh fevers in the last year \\t1) less than three months ago, 2) more than three months ago, 3) no. \\t(-1, 0, 1) \\r\\n\\r\\nFrequency of alcohol consumption \\t1) several times a day, 2) every day, 3) several times a week, 4) once a week, 5) hardly ever or never \\t(0, 1) \\r\\n\\r\\nSmoking habit \\t1) never, 2) occasional 3) daily. \\t(-1, 0, 1) \\r\\n\\r\\nNumber of hours spent sitting per day \\tene-16\\t(0, 1) \\r\\n\\r\\nOutput: Diagnosis\\tnormal (N), altered (O)\\t\\r\\n', 'citation': None}}\n",
      "                    name     role         type demographic description units  \\\n",
      "0                 season  Feature   Continuous        None        None  None   \n",
      "1                    age  Feature      Integer         Age        None  None   \n",
      "2         child_diseases  Feature       Binary        None        None  None   \n",
      "3               accident  Feature       Binary        None        None  None   \n",
      "4  surgical_intervention  Feature       Binary        None        None  None   \n",
      "5            high_fevers  Feature  Categorical        None        None  None   \n",
      "6                alcohol  Feature  Categorical        None        None  None   \n",
      "7                smoking  Feature  Categorical        None        None  None   \n",
      "8            hrs_sitting  Feature      Integer        None        None  None   \n",
      "9              diagnosis   Target       Binary        None        None  None   \n",
      "\n",
      "  missing_values  \n",
      "0             no  \n",
      "1             no  \n",
      "2             no  \n",
      "3             no  \n",
      "4             no  \n",
      "5             no  \n",
      "6             no  \n",
      "7             no  \n",
      "8             no  \n",
      "9             no  \n"
     ]
    }
   ],
   "source": [
    "from ucimlrepo import fetch_ucirepo \n",
    "  \n",
    "# fetch dataset \n",
    "fertility = fetch_ucirepo(id=244) \n",
    "  \n",
    "# data (as pandas dataframes) \n",
    "X = fertility.data.features \n",
    "y = fertility.data.targets \n",
    "  \n",
    "# metadata \n",
    "print(fertility.metadata) \n",
    "  \n",
    "# variable information \n",
    "print(fertility.variables) \n"
   ]
  },
  {
   "cell_type": "code",
   "execution_count": null,
   "metadata": {},
   "outputs": [],
   "source": []
  }
 ],
 "metadata": {
  "kernelspec": {
   "display_name": "cogs118a",
   "language": "python",
   "name": "python3"
  },
  "language_info": {
   "codemirror_mode": {
    "name": "ipython",
    "version": 3
   },
   "file_extension": ".py",
   "mimetype": "text/x-python",
   "name": "python",
   "nbconvert_exporter": "python",
   "pygments_lexer": "ipython3",
   "version": "3.12.5"
  }
 },
 "nbformat": 4,
 "nbformat_minor": 2
}
