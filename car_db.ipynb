{
 "cells": [
  {
   "cell_type": "code",
   "execution_count": 49,
   "metadata": {},
   "outputs": [
    {
     "name": "stdout",
     "output_type": "stream",
     "text": [
      "{'uci_id': 19, 'name': 'Car Evaluation', 'repository_url': 'https://archive.ics.uci.edu/dataset/19/car+evaluation', 'data_url': 'https://archive.ics.uci.edu/static/public/19/data.csv', 'abstract': 'Derived from simple hierarchical decision model, this database may be useful for testing constructive induction and structure discovery methods.', 'area': 'Other', 'tasks': ['Classification'], 'characteristics': ['Multivariate'], 'num_instances': 1728, 'num_features': 6, 'feature_types': ['Categorical'], 'demographics': [], 'target_col': ['class'], 'index_col': None, 'has_missing_values': 'no', 'missing_values_symbol': None, 'year_of_dataset_creation': 1988, 'last_updated': 'Thu Aug 10 2023', 'dataset_doi': '10.24432/C5JP48', 'creators': ['Marko Bohanec'], 'intro_paper': {'ID': 249, 'type': 'NATIVE', 'title': 'Knowledge acquisition and explanation for multi-attribute decision making', 'authors': 'M. Bohanec, V. Rajkovič', 'venue': '8th Intl Workshop on Expert Systems and their Applications, Avignon, France', 'year': 1988, 'journal': None, 'DOI': None, 'URL': 'https://www.semanticscholar.org/paper/KNOWLEDGE-ACQUISITION-AND-EXPLANATION-FOR-DECISION-Bohanec-Rajkovi%C4%8D/8bab443ae322ff47c3e609272bd93fd4650555bc', 'sha': None, 'corpus': None, 'arxiv': None, 'mag': None, 'acl': None, 'pmid': None, 'pmcid': None}, 'additional_info': {'summary': 'Car Evaluation Database was derived from a simple hierarchical decision model originally developed for the demonstration of DEX, M. Bohanec, V. Rajkovic: Expert system for decision making. Sistemica 1(1), pp. 145-157, 1990.). The model evaluates cars according to the following concept structure:\\r\\n\\r\\nCAR                      car acceptability\\r\\n. PRICE                  overall price\\r\\n. . buying               buying price\\r\\n. . maint                price of the maintenance\\r\\n. TECH                   technical characteristics\\r\\n. . COMFORT              comfort\\r\\n. . . doors              number of doors\\r\\n. . . persons            capacity in terms of persons to carry\\r\\n. . . lug_boot           the size of luggage boot\\r\\n. . safety               estimated safety of the car\\r\\n\\r\\nInput attributes are printed in lowercase. Besides the target concept (CAR), the model includes three intermediate concepts: PRICE, TECH, COMFORT. Every concept is in the original model related to its lower level descendants by a set of examples (for these examples sets see http://www-ai.ijs.si/BlazZupan/car.html).\\r\\n\\r\\nThe Car Evaluation Database contains examples with the structural information removed, i.e., directly relates CAR to the six input attributes: buying, maint, doors, persons, lug_boot, safety.\\r\\n\\r\\nBecause of known underlying concept structure, this database may be particularly useful for testing constructive induction and structure discovery methods.\\r\\n', 'purpose': None, 'funded_by': None, 'instances_represent': None, 'recommended_data_splits': None, 'sensitive_data': None, 'preprocessing_description': None, 'variable_info': 'buying:   vhigh, high, med, low.\\nmaint:    vhigh, high, med, low.\\ndoors:    2, 3, 4, 5more.\\npersons:  2, 4, more.\\nlug_boot: small, med, big.\\nsafety:   low, med, high.', 'citation': None}}\n",
      "       name     role         type demographic  \\\n",
      "0    buying  Feature  Categorical        None   \n",
      "1     maint  Feature  Categorical        None   \n",
      "2     doors  Feature  Categorical        None   \n",
      "3   persons  Feature  Categorical        None   \n",
      "4  lug_boot  Feature  Categorical        None   \n",
      "5    safety  Feature  Categorical        None   \n",
      "6     class   Target  Categorical        None   \n",
      "\n",
      "                                         description units missing_values  \n",
      "0                                       buying price  None             no  \n",
      "1                           price of the maintenance  None             no  \n",
      "2                                    number of doors  None             no  \n",
      "3              capacity in terms of persons to carry  None             no  \n",
      "4                           the size of luggage boot  None             no  \n",
      "5                        estimated safety of the car  None             no  \n",
      "6  evaulation level (unacceptable, acceptable, go...  None             no  \n"
     ]
    }
   ],
   "source": [
    "\n",
    "\n",
    "from ucimlrepo import fetch_ucirepo  \n",
    "import numpy as np\n",
    "import matplotlib.pyplot as plt\n",
    "from sklearn import datasets\n",
    "\n",
    "from sklearn.tree import DecisionTreeClassifier\n",
    "from sklearn import tree\n",
    "from sklearn.model_selection import train_test_split, KFold, cross_val_score\n",
    "  \n",
    "# fetch dataset \n",
    "car_evaluation = fetch_ucirepo(id=19) \n",
    "  \n",
    "# data (as pandas dataframes) \n",
    "X = car_evaluation.data.features \n",
    "Y = car_evaluation.data.targets \n",
    "  \n",
    "# metadata \n",
    "print(car_evaluation.metadata) \n",
    "  \n",
    "# variable information \n",
    "print(car_evaluation.variables) \n"
   ]
  },
  {
   "cell_type": "markdown",
   "metadata": {},
   "source": [
    "## Pre-Processing"
   ]
  },
  {
   "cell_type": "code",
   "execution_count": 50,
   "metadata": {},
   "outputs": [
    {
     "data": {
      "text/plain": [
       "array(['unacc', 'acc', 'vgood', 'good'], dtype=object)"
      ]
     },
     "execution_count": 50,
     "metadata": {},
     "output_type": "execute_result"
    }
   ],
   "source": [
    "Y['class'].unique()\n"
   ]
  },
  {
   "cell_type": "code",
   "execution_count": 51,
   "metadata": {},
   "outputs": [],
   "source": [
    "Y = ((Y['class'] == 'vgood') | (Y['class'] == 'good')).astype(float)\n",
    "Y[Y == 0] = -1"
   ]
  },
  {
   "cell_type": "code",
   "execution_count": 52,
   "metadata": {},
   "outputs": [],
   "source": [
    "Y = Y.values.reshape(-1,1)"
   ]
  },
  {
   "cell_type": "code",
   "execution_count": 53,
   "metadata": {},
   "outputs": [
    {
     "data": {
      "text/plain": [
       "array([[-1.],\n",
       "       [-1.],\n",
       "       [-1.],\n",
       "       ...,\n",
       "       [-1.],\n",
       "       [ 1.],\n",
       "       [ 1.]], shape=(1728, 1))"
      ]
     },
     "execution_count": 53,
     "metadata": {},
     "output_type": "execute_result"
    }
   ],
   "source": [
    "Y"
   ]
  },
  {
   "cell_type": "code",
   "execution_count": 54,
   "metadata": {},
   "outputs": [
    {
     "name": "stdout",
     "output_type": "stream",
     "text": [
      "(1728, 1)\n",
      "(1728, 6)\n",
      "['med' 'low' '3' 'more' 'small' 'low' -1.0]\n"
     ]
    }
   ],
   "source": [
    "X_and_Y = np.hstack((X, Y))     # Stack them together for shuffling.\n",
    "np.random.seed(1)               # Set the random seed.\n",
    "np.random.shuffle(X_and_Y)  \n",
    "\n",
    "print(Y.shape)\n",
    "print(X.shape)\n",
    "print(X_and_Y[0])"
   ]
  },
  {
   "cell_type": "code",
   "execution_count": 55,
   "metadata": {},
   "outputs": [
    {
     "data": {
      "text/html": [
       "<div>\n",
       "<style scoped>\n",
       "    .dataframe tbody tr th:only-of-type {\n",
       "        vertical-align: middle;\n",
       "    }\n",
       "\n",
       "    .dataframe tbody tr th {\n",
       "        vertical-align: top;\n",
       "    }\n",
       "\n",
       "    .dataframe thead th {\n",
       "        text-align: right;\n",
       "    }\n",
       "</style>\n",
       "<table border=\"1\" class=\"dataframe\">\n",
       "  <thead>\n",
       "    <tr style=\"text-align: right;\">\n",
       "      <th></th>\n",
       "      <th>buying</th>\n",
       "      <th>maint</th>\n",
       "      <th>doors</th>\n",
       "      <th>persons</th>\n",
       "      <th>lug_boot</th>\n",
       "      <th>safety</th>\n",
       "    </tr>\n",
       "  </thead>\n",
       "  <tbody>\n",
       "    <tr>\n",
       "      <th>0</th>\n",
       "      <td>vhigh</td>\n",
       "      <td>vhigh</td>\n",
       "      <td>2</td>\n",
       "      <td>2</td>\n",
       "      <td>small</td>\n",
       "      <td>low</td>\n",
       "    </tr>\n",
       "    <tr>\n",
       "      <th>1</th>\n",
       "      <td>vhigh</td>\n",
       "      <td>vhigh</td>\n",
       "      <td>2</td>\n",
       "      <td>2</td>\n",
       "      <td>small</td>\n",
       "      <td>med</td>\n",
       "    </tr>\n",
       "    <tr>\n",
       "      <th>2</th>\n",
       "      <td>vhigh</td>\n",
       "      <td>vhigh</td>\n",
       "      <td>2</td>\n",
       "      <td>2</td>\n",
       "      <td>small</td>\n",
       "      <td>high</td>\n",
       "    </tr>\n",
       "    <tr>\n",
       "      <th>3</th>\n",
       "      <td>vhigh</td>\n",
       "      <td>vhigh</td>\n",
       "      <td>2</td>\n",
       "      <td>2</td>\n",
       "      <td>med</td>\n",
       "      <td>low</td>\n",
       "    </tr>\n",
       "    <tr>\n",
       "      <th>4</th>\n",
       "      <td>vhigh</td>\n",
       "      <td>vhigh</td>\n",
       "      <td>2</td>\n",
       "      <td>2</td>\n",
       "      <td>med</td>\n",
       "      <td>med</td>\n",
       "    </tr>\n",
       "    <tr>\n",
       "      <th>...</th>\n",
       "      <td>...</td>\n",
       "      <td>...</td>\n",
       "      <td>...</td>\n",
       "      <td>...</td>\n",
       "      <td>...</td>\n",
       "      <td>...</td>\n",
       "    </tr>\n",
       "    <tr>\n",
       "      <th>1723</th>\n",
       "      <td>low</td>\n",
       "      <td>low</td>\n",
       "      <td>5more</td>\n",
       "      <td>more</td>\n",
       "      <td>med</td>\n",
       "      <td>med</td>\n",
       "    </tr>\n",
       "    <tr>\n",
       "      <th>1724</th>\n",
       "      <td>low</td>\n",
       "      <td>low</td>\n",
       "      <td>5more</td>\n",
       "      <td>more</td>\n",
       "      <td>med</td>\n",
       "      <td>high</td>\n",
       "    </tr>\n",
       "    <tr>\n",
       "      <th>1725</th>\n",
       "      <td>low</td>\n",
       "      <td>low</td>\n",
       "      <td>5more</td>\n",
       "      <td>more</td>\n",
       "      <td>big</td>\n",
       "      <td>low</td>\n",
       "    </tr>\n",
       "    <tr>\n",
       "      <th>1726</th>\n",
       "      <td>low</td>\n",
       "      <td>low</td>\n",
       "      <td>5more</td>\n",
       "      <td>more</td>\n",
       "      <td>big</td>\n",
       "      <td>med</td>\n",
       "    </tr>\n",
       "    <tr>\n",
       "      <th>1727</th>\n",
       "      <td>low</td>\n",
       "      <td>low</td>\n",
       "      <td>5more</td>\n",
       "      <td>more</td>\n",
       "      <td>big</td>\n",
       "      <td>high</td>\n",
       "    </tr>\n",
       "  </tbody>\n",
       "</table>\n",
       "<p>1728 rows × 6 columns</p>\n",
       "</div>"
      ],
      "text/plain": [
       "     buying  maint  doors persons lug_boot safety\n",
       "0     vhigh  vhigh      2       2    small    low\n",
       "1     vhigh  vhigh      2       2    small    med\n",
       "2     vhigh  vhigh      2       2    small   high\n",
       "3     vhigh  vhigh      2       2      med    low\n",
       "4     vhigh  vhigh      2       2      med    med\n",
       "...     ...    ...    ...     ...      ...    ...\n",
       "1723    low    low  5more    more      med    med\n",
       "1724    low    low  5more    more      med   high\n",
       "1725    low    low  5more    more      big    low\n",
       "1726    low    low  5more    more      big    med\n",
       "1727    low    low  5more    more      big   high\n",
       "\n",
       "[1728 rows x 6 columns]"
      ]
     },
     "execution_count": 55,
     "metadata": {},
     "output_type": "execute_result"
    }
   ],
   "source": [
    "X"
   ]
  },
  {
   "cell_type": "code",
   "execution_count": 56,
   "metadata": {},
   "outputs": [],
   "source": [
    "X['safety'].unique()\n",
    "safeties = ['low', 'med', 'high']"
   ]
  },
  {
   "cell_type": "code",
   "execution_count": 57,
   "metadata": {},
   "outputs": [],
   "source": [
    "from sklearn.preprocessing import OrdinalEncoder"
   ]
  },
  {
   "cell_type": "code",
   "execution_count": 58,
   "metadata": {},
   "outputs": [],
   "source": [
    "enc = OrdinalEncoder(categories = [safeties])"
   ]
  },
  {
   "cell_type": "code",
   "execution_count": 59,
   "metadata": {},
   "outputs": [],
   "source": [
    "#enc.fit_transform(X[['safety']])"
   ]
  },
  {
   "cell_type": "code",
   "execution_count": 60,
   "metadata": {},
   "outputs": [],
   "source": [
    "X.loc[:,'safety'] = enc.fit_transform(X[['safety']])"
   ]
  },
  {
   "cell_type": "code",
   "execution_count": 28,
   "metadata": {},
   "outputs": [
    {
     "data": {
      "text/html": [
       "<div>\n",
       "<style scoped>\n",
       "    .dataframe tbody tr th:only-of-type {\n",
       "        vertical-align: middle;\n",
       "    }\n",
       "\n",
       "    .dataframe tbody tr th {\n",
       "        vertical-align: top;\n",
       "    }\n",
       "\n",
       "    .dataframe thead th {\n",
       "        text-align: right;\n",
       "    }\n",
       "</style>\n",
       "<table border=\"1\" class=\"dataframe\">\n",
       "  <thead>\n",
       "    <tr style=\"text-align: right;\">\n",
       "      <th></th>\n",
       "      <th>buying</th>\n",
       "      <th>maint</th>\n",
       "      <th>doors</th>\n",
       "      <th>persons</th>\n",
       "      <th>lug_boot</th>\n",
       "      <th>safety</th>\n",
       "    </tr>\n",
       "  </thead>\n",
       "  <tbody>\n",
       "    <tr>\n",
       "      <th>0</th>\n",
       "      <td>vhigh</td>\n",
       "      <td>vhigh</td>\n",
       "      <td>2</td>\n",
       "      <td>2</td>\n",
       "      <td>small</td>\n",
       "      <td>0.0</td>\n",
       "    </tr>\n",
       "    <tr>\n",
       "      <th>1</th>\n",
       "      <td>vhigh</td>\n",
       "      <td>vhigh</td>\n",
       "      <td>2</td>\n",
       "      <td>2</td>\n",
       "      <td>small</td>\n",
       "      <td>1.0</td>\n",
       "    </tr>\n",
       "    <tr>\n",
       "      <th>2</th>\n",
       "      <td>vhigh</td>\n",
       "      <td>vhigh</td>\n",
       "      <td>2</td>\n",
       "      <td>2</td>\n",
       "      <td>small</td>\n",
       "      <td>2.0</td>\n",
       "    </tr>\n",
       "    <tr>\n",
       "      <th>3</th>\n",
       "      <td>vhigh</td>\n",
       "      <td>vhigh</td>\n",
       "      <td>2</td>\n",
       "      <td>2</td>\n",
       "      <td>med</td>\n",
       "      <td>0.0</td>\n",
       "    </tr>\n",
       "    <tr>\n",
       "      <th>4</th>\n",
       "      <td>vhigh</td>\n",
       "      <td>vhigh</td>\n",
       "      <td>2</td>\n",
       "      <td>2</td>\n",
       "      <td>med</td>\n",
       "      <td>1.0</td>\n",
       "    </tr>\n",
       "    <tr>\n",
       "      <th>5</th>\n",
       "      <td>vhigh</td>\n",
       "      <td>vhigh</td>\n",
       "      <td>2</td>\n",
       "      <td>2</td>\n",
       "      <td>med</td>\n",
       "      <td>2.0</td>\n",
       "    </tr>\n",
       "    <tr>\n",
       "      <th>6</th>\n",
       "      <td>vhigh</td>\n",
       "      <td>vhigh</td>\n",
       "      <td>2</td>\n",
       "      <td>2</td>\n",
       "      <td>big</td>\n",
       "      <td>0.0</td>\n",
       "    </tr>\n",
       "    <tr>\n",
       "      <th>7</th>\n",
       "      <td>vhigh</td>\n",
       "      <td>vhigh</td>\n",
       "      <td>2</td>\n",
       "      <td>2</td>\n",
       "      <td>big</td>\n",
       "      <td>1.0</td>\n",
       "    </tr>\n",
       "    <tr>\n",
       "      <th>8</th>\n",
       "      <td>vhigh</td>\n",
       "      <td>vhigh</td>\n",
       "      <td>2</td>\n",
       "      <td>2</td>\n",
       "      <td>big</td>\n",
       "      <td>2.0</td>\n",
       "    </tr>\n",
       "    <tr>\n",
       "      <th>9</th>\n",
       "      <td>vhigh</td>\n",
       "      <td>vhigh</td>\n",
       "      <td>2</td>\n",
       "      <td>4</td>\n",
       "      <td>small</td>\n",
       "      <td>0.0</td>\n",
       "    </tr>\n",
       "  </tbody>\n",
       "</table>\n",
       "</div>"
      ],
      "text/plain": [
       "  buying  maint doors persons lug_boot  safety\n",
       "0  vhigh  vhigh     2       2    small     0.0\n",
       "1  vhigh  vhigh     2       2    small     1.0\n",
       "2  vhigh  vhigh     2       2    small     2.0\n",
       "3  vhigh  vhigh     2       2      med     0.0\n",
       "4  vhigh  vhigh     2       2      med     1.0\n",
       "5  vhigh  vhigh     2       2      med     2.0\n",
       "6  vhigh  vhigh     2       2      big     0.0\n",
       "7  vhigh  vhigh     2       2      big     1.0\n",
       "8  vhigh  vhigh     2       2      big     2.0\n",
       "9  vhigh  vhigh     2       4    small     0.0"
      ]
     },
     "execution_count": 28,
     "metadata": {},
     "output_type": "execute_result"
    }
   ],
   "source": [
    "X.head(10)"
   ]
  },
  {
   "cell_type": "code",
   "execution_count": 61,
   "metadata": {},
   "outputs": [
    {
     "data": {
      "text/plain": [
       "array(['vhigh', 'high', 'med', 'low'], dtype=object)"
      ]
     },
     "execution_count": 61,
     "metadata": {},
     "output_type": "execute_result"
    }
   ],
   "source": [
    "X['buying'].unique()"
   ]
  },
  {
   "cell_type": "code",
   "execution_count": 62,
   "metadata": {},
   "outputs": [],
   "source": [
    "from sklearn.preprocessing import OrdinalEncoder\n",
    "enc = OrdinalEncoder(categories = [['vhigh', 'high', 'med', 'low']])"
   ]
  },
  {
   "cell_type": "code",
   "execution_count": 63,
   "metadata": {},
   "outputs": [],
   "source": [
    "X.loc[:,'buying'] = enc.fit_transform(X[['buying']])"
   ]
  },
  {
   "cell_type": "code",
   "execution_count": 64,
   "metadata": {},
   "outputs": [
    {
     "data": {
      "text/plain": [
       "array([0.0, 1.0, 2.0, 3.0], dtype=object)"
      ]
     },
     "execution_count": 64,
     "metadata": {},
     "output_type": "execute_result"
    }
   ],
   "source": [
    "X['buying'].unique()"
   ]
  },
  {
   "cell_type": "code",
   "execution_count": 65,
   "metadata": {},
   "outputs": [
    {
     "data": {
      "text/plain": [
       "array(['vhigh', 'high', 'med', 'low'], dtype=object)"
      ]
     },
     "execution_count": 65,
     "metadata": {},
     "output_type": "execute_result"
    }
   ],
   "source": [
    "X['maint'].unique()"
   ]
  },
  {
   "cell_type": "code",
   "execution_count": 66,
   "metadata": {},
   "outputs": [],
   "source": [
    "from sklearn.preprocessing import OrdinalEncoder\n",
    "enc = OrdinalEncoder(categories = [['vhigh', 'high', 'med', 'low']])\n",
    "X.loc[:,'maint'] = enc.fit_transform(X[['maint']])"
   ]
  },
  {
   "cell_type": "code",
   "execution_count": 67,
   "metadata": {},
   "outputs": [
    {
     "data": {
      "text/html": [
       "<div>\n",
       "<style scoped>\n",
       "    .dataframe tbody tr th:only-of-type {\n",
       "        vertical-align: middle;\n",
       "    }\n",
       "\n",
       "    .dataframe tbody tr th {\n",
       "        vertical-align: top;\n",
       "    }\n",
       "\n",
       "    .dataframe thead th {\n",
       "        text-align: right;\n",
       "    }\n",
       "</style>\n",
       "<table border=\"1\" class=\"dataframe\">\n",
       "  <thead>\n",
       "    <tr style=\"text-align: right;\">\n",
       "      <th></th>\n",
       "      <th>buying</th>\n",
       "      <th>maint</th>\n",
       "      <th>doors</th>\n",
       "      <th>persons</th>\n",
       "      <th>lug_boot</th>\n",
       "      <th>safety</th>\n",
       "    </tr>\n",
       "  </thead>\n",
       "  <tbody>\n",
       "    <tr>\n",
       "      <th>0</th>\n",
       "      <td>0.0</td>\n",
       "      <td>0.0</td>\n",
       "      <td>2</td>\n",
       "      <td>2</td>\n",
       "      <td>small</td>\n",
       "      <td>0.0</td>\n",
       "    </tr>\n",
       "    <tr>\n",
       "      <th>1</th>\n",
       "      <td>0.0</td>\n",
       "      <td>0.0</td>\n",
       "      <td>2</td>\n",
       "      <td>2</td>\n",
       "      <td>small</td>\n",
       "      <td>1.0</td>\n",
       "    </tr>\n",
       "    <tr>\n",
       "      <th>2</th>\n",
       "      <td>0.0</td>\n",
       "      <td>0.0</td>\n",
       "      <td>2</td>\n",
       "      <td>2</td>\n",
       "      <td>small</td>\n",
       "      <td>2.0</td>\n",
       "    </tr>\n",
       "    <tr>\n",
       "      <th>3</th>\n",
       "      <td>0.0</td>\n",
       "      <td>0.0</td>\n",
       "      <td>2</td>\n",
       "      <td>2</td>\n",
       "      <td>med</td>\n",
       "      <td>0.0</td>\n",
       "    </tr>\n",
       "    <tr>\n",
       "      <th>4</th>\n",
       "      <td>0.0</td>\n",
       "      <td>0.0</td>\n",
       "      <td>2</td>\n",
       "      <td>2</td>\n",
       "      <td>med</td>\n",
       "      <td>1.0</td>\n",
       "    </tr>\n",
       "  </tbody>\n",
       "</table>\n",
       "</div>"
      ],
      "text/plain": [
       "  buying maint doors persons lug_boot  safety\n",
       "0    0.0   0.0     2       2    small     0.0\n",
       "1    0.0   0.0     2       2    small     1.0\n",
       "2    0.0   0.0     2       2    small     2.0\n",
       "3    0.0   0.0     2       2      med     0.0\n",
       "4    0.0   0.0     2       2      med     1.0"
      ]
     },
     "execution_count": 67,
     "metadata": {},
     "output_type": "execute_result"
    }
   ],
   "source": [
    "X.head()"
   ]
  },
  {
   "cell_type": "code",
   "execution_count": 68,
   "metadata": {},
   "outputs": [
    {
     "data": {
      "text/plain": [
       "array(['small', 'med', 'big'], dtype=object)"
      ]
     },
     "execution_count": 68,
     "metadata": {},
     "output_type": "execute_result"
    }
   ],
   "source": [
    "X['lug_boot'].unique()"
   ]
  },
  {
   "cell_type": "code",
   "execution_count": 69,
   "metadata": {},
   "outputs": [],
   "source": [
    "from sklearn.preprocessing import OrdinalEncoder\n",
    "enc = OrdinalEncoder(categories = [['small', 'med', 'big']])\n",
    "X.loc[:,'lug_boot'] = enc.fit_transform(X[['lug_boot']])"
   ]
  },
  {
   "cell_type": "code",
   "execution_count": 70,
   "metadata": {},
   "outputs": [
    {
     "data": {
      "text/plain": [
       "array(['2', '3', '4', '5more'], dtype=object)"
      ]
     },
     "execution_count": 70,
     "metadata": {},
     "output_type": "execute_result"
    }
   ],
   "source": [
    "X['doors'].unique()"
   ]
  },
  {
   "cell_type": "code",
   "execution_count": 71,
   "metadata": {},
   "outputs": [],
   "source": [
    "X['doors'].unique()\n",
    "X.loc[:,'doors'] = X['doors'].replace({'5more': '5'}).astype(float)"
   ]
  },
  {
   "cell_type": "code",
   "execution_count": 72,
   "metadata": {},
   "outputs": [
    {
     "data": {
      "text/html": [
       "<div>\n",
       "<style scoped>\n",
       "    .dataframe tbody tr th:only-of-type {\n",
       "        vertical-align: middle;\n",
       "    }\n",
       "\n",
       "    .dataframe tbody tr th {\n",
       "        vertical-align: top;\n",
       "    }\n",
       "\n",
       "    .dataframe thead th {\n",
       "        text-align: right;\n",
       "    }\n",
       "</style>\n",
       "<table border=\"1\" class=\"dataframe\">\n",
       "  <thead>\n",
       "    <tr style=\"text-align: right;\">\n",
       "      <th></th>\n",
       "      <th>buying</th>\n",
       "      <th>maint</th>\n",
       "      <th>doors</th>\n",
       "      <th>persons</th>\n",
       "      <th>lug_boot</th>\n",
       "      <th>safety</th>\n",
       "    </tr>\n",
       "  </thead>\n",
       "  <tbody>\n",
       "    <tr>\n",
       "      <th>0</th>\n",
       "      <td>0.0</td>\n",
       "      <td>0.0</td>\n",
       "      <td>2.0</td>\n",
       "      <td>2</td>\n",
       "      <td>0.0</td>\n",
       "      <td>0.0</td>\n",
       "    </tr>\n",
       "    <tr>\n",
       "      <th>1</th>\n",
       "      <td>0.0</td>\n",
       "      <td>0.0</td>\n",
       "      <td>2.0</td>\n",
       "      <td>2</td>\n",
       "      <td>0.0</td>\n",
       "      <td>1.0</td>\n",
       "    </tr>\n",
       "    <tr>\n",
       "      <th>2</th>\n",
       "      <td>0.0</td>\n",
       "      <td>0.0</td>\n",
       "      <td>2.0</td>\n",
       "      <td>2</td>\n",
       "      <td>0.0</td>\n",
       "      <td>2.0</td>\n",
       "    </tr>\n",
       "    <tr>\n",
       "      <th>3</th>\n",
       "      <td>0.0</td>\n",
       "      <td>0.0</td>\n",
       "      <td>2.0</td>\n",
       "      <td>2</td>\n",
       "      <td>1.0</td>\n",
       "      <td>0.0</td>\n",
       "    </tr>\n",
       "    <tr>\n",
       "      <th>4</th>\n",
       "      <td>0.0</td>\n",
       "      <td>0.0</td>\n",
       "      <td>2.0</td>\n",
       "      <td>2</td>\n",
       "      <td>1.0</td>\n",
       "      <td>1.0</td>\n",
       "    </tr>\n",
       "    <tr>\n",
       "      <th>...</th>\n",
       "      <td>...</td>\n",
       "      <td>...</td>\n",
       "      <td>...</td>\n",
       "      <td>...</td>\n",
       "      <td>...</td>\n",
       "      <td>...</td>\n",
       "    </tr>\n",
       "    <tr>\n",
       "      <th>1723</th>\n",
       "      <td>3.0</td>\n",
       "      <td>3.0</td>\n",
       "      <td>5.0</td>\n",
       "      <td>more</td>\n",
       "      <td>1.0</td>\n",
       "      <td>1.0</td>\n",
       "    </tr>\n",
       "    <tr>\n",
       "      <th>1724</th>\n",
       "      <td>3.0</td>\n",
       "      <td>3.0</td>\n",
       "      <td>5.0</td>\n",
       "      <td>more</td>\n",
       "      <td>1.0</td>\n",
       "      <td>2.0</td>\n",
       "    </tr>\n",
       "    <tr>\n",
       "      <th>1725</th>\n",
       "      <td>3.0</td>\n",
       "      <td>3.0</td>\n",
       "      <td>5.0</td>\n",
       "      <td>more</td>\n",
       "      <td>2.0</td>\n",
       "      <td>0.0</td>\n",
       "    </tr>\n",
       "    <tr>\n",
       "      <th>1726</th>\n",
       "      <td>3.0</td>\n",
       "      <td>3.0</td>\n",
       "      <td>5.0</td>\n",
       "      <td>more</td>\n",
       "      <td>2.0</td>\n",
       "      <td>1.0</td>\n",
       "    </tr>\n",
       "    <tr>\n",
       "      <th>1727</th>\n",
       "      <td>3.0</td>\n",
       "      <td>3.0</td>\n",
       "      <td>5.0</td>\n",
       "      <td>more</td>\n",
       "      <td>2.0</td>\n",
       "      <td>2.0</td>\n",
       "    </tr>\n",
       "  </tbody>\n",
       "</table>\n",
       "<p>1728 rows × 6 columns</p>\n",
       "</div>"
      ],
      "text/plain": [
       "     buying maint doors persons lug_boot  safety\n",
       "0       0.0   0.0   2.0       2      0.0     0.0\n",
       "1       0.0   0.0   2.0       2      0.0     1.0\n",
       "2       0.0   0.0   2.0       2      0.0     2.0\n",
       "3       0.0   0.0   2.0       2      1.0     0.0\n",
       "4       0.0   0.0   2.0       2      1.0     1.0\n",
       "...     ...   ...   ...     ...      ...     ...\n",
       "1723    3.0   3.0   5.0    more      1.0     1.0\n",
       "1724    3.0   3.0   5.0    more      1.0     2.0\n",
       "1725    3.0   3.0   5.0    more      2.0     0.0\n",
       "1726    3.0   3.0   5.0    more      2.0     1.0\n",
       "1727    3.0   3.0   5.0    more      2.0     2.0\n",
       "\n",
       "[1728 rows x 6 columns]"
      ]
     },
     "execution_count": 72,
     "metadata": {},
     "output_type": "execute_result"
    }
   ],
   "source": [
    "X"
   ]
  },
  {
   "cell_type": "code",
   "execution_count": 73,
   "metadata": {},
   "outputs": [],
   "source": [
    "X.loc[:,'persons'] = X['persons'].replace({'more' : '6'}).astype(float)"
   ]
  },
  {
   "cell_type": "code",
   "execution_count": 74,
   "metadata": {},
   "outputs": [
    {
     "name": "stdout",
     "output_type": "stream",
     "text": [
      "(1728, 1)\n",
      "(1728, 6)\n"
     ]
    }
   ],
   "source": [
    "print(Y.shape)\n",
    "print(X.shape)"
   ]
  },
  {
   "cell_type": "code",
   "execution_count": 78,
   "metadata": {},
   "outputs": [
    {
     "data": {
      "text/plain": [
       "np.False_"
      ]
     },
     "execution_count": 78,
     "metadata": {},
     "output_type": "execute_result"
    }
   ],
   "source": [
    "np.isnan(Y).any()"
   ]
  },
  {
   "cell_type": "code",
   "execution_count": 93,
   "metadata": {},
   "outputs": [],
   "source": [
    "Y = Y.flatten()"
   ]
  },
  {
   "cell_type": "markdown",
   "metadata": {},
   "source": [
    "## Implementing Decision Tree Classifier"
   ]
  },
  {
   "cell_type": "code",
   "execution_count": 94,
   "metadata": {},
   "outputs": [
    {
     "name": "stdout",
     "output_type": "stream",
     "text": [
      "Results for 20% training data:\n",
      "Best parameters: {'max_depth': 5, 'min_samples_leaf': 1, 'min_samples_split': 2}\n",
      "Cross-validated Accuracy (GridSearchCV): 0.9362\n",
      "Additional Cross-validated Accuracy: 0.9362\n",
      "Classification Report:\n",
      "              precision    recall  f1-score   support\n",
      "\n",
      "        -1.0       0.99      0.95      0.97      1284\n",
      "         1.0       0.56      0.83      0.67        99\n",
      "\n",
      "    accuracy                           0.94      1383\n",
      "   macro avg       0.77      0.89      0.82      1383\n",
      "weighted avg       0.96      0.94      0.95      1383\n",
      "\n",
      "\n",
      "Results for 50% training data:\n",
      "Best parameters: {'max_depth': 5, 'min_samples_leaf': 1, 'min_samples_split': 2}\n",
      "Cross-validated Accuracy (GridSearchCV): 0.9479\n",
      "Additional Cross-validated Accuracy: 0.9479\n",
      "Classification Report:\n",
      "              precision    recall  f1-score   support\n",
      "\n",
      "        -1.0       0.98      0.99      0.98       802\n",
      "         1.0       0.83      0.69      0.75        62\n",
      "\n",
      "    accuracy                           0.97       864\n",
      "   macro avg       0.90      0.84      0.87       864\n",
      "weighted avg       0.97      0.97      0.97       864\n",
      "\n",
      "\n",
      "Results for 80% training data:\n",
      "Best parameters: {'max_depth': 5, 'min_samples_leaf': 1, 'min_samples_split': 2}\n",
      "Cross-validated Accuracy (GridSearchCV): 0.9580\n",
      "Additional Cross-validated Accuracy: 0.9580\n",
      "Classification Report:\n",
      "              precision    recall  f1-score   support\n",
      "\n",
      "        -1.0       0.97      0.98      0.98       318\n",
      "         1.0       0.77      0.71      0.74        28\n",
      "\n",
      "    accuracy                           0.96       346\n",
      "   macro avg       0.87      0.85      0.86       346\n",
      "weighted avg       0.96      0.96      0.96       346\n",
      "\n"
     ]
    }
   ],
   "source": [
    "from sklearn.model_selection import train_test_split, GridSearchCV, cross_val_score\n",
    "from sklearn.tree import DecisionTreeClassifier\n",
    "from sklearn.metrics import classification_report, accuracy_score\n",
    "import numpy as np\n",
    "\n",
    "# Define the parameter grid\n",
    "param_grid = {\n",
    "    'max_depth': [1, 2, 3, 4, 5],\n",
    "    'min_samples_split': [2, 5, 10],\n",
    "    'min_samples_leaf': [1, 2, 4]\n",
    "}\n",
    "\n",
    "# Define the decision tree classifier\n",
    "estimator = DecisionTreeClassifier(criterion='entropy')\n",
    "\n",
    "# Split 1: Train size = 20%, Test size = 80%\n",
    "X_train_20, X_test_20, Y_train_20, Y_test_20 = train_test_split(X, Y, train_size=0.2, random_state=42)\n",
    "grid_search_20 = GridSearchCV(estimator, param_grid, cv=3, scoring=\"accuracy\")\n",
    "grid_search_20.fit(X_train_20, Y_train_20)\n",
    "best_params_20 = grid_search_20.best_params_\n",
    "cv_score_20 = grid_search_20.best_score_\n",
    "additional_cv_score_20 = np.mean(cross_val_score(grid_search_20.best_estimator_, X_train_20, Y_train_20, cv=3))\n",
    "\n",
    "print(\"Results for 20% training data:\")\n",
    "print(\"Best parameters:\", best_params_20)\n",
    "print(f\"Cross-validated Accuracy (GridSearchCV): {cv_score_20:.4f}\")\n",
    "print(f\"Additional Cross-validated Accuracy: {additional_cv_score_20:.4f}\")\n",
    "y_pred_20 = grid_search_20.best_estimator_.predict(X_test_20)\n",
    "print(\"Classification Report:\")\n",
    "print(classification_report(Y_test_20, y_pred_20))\n",
    "\n",
    "# Split 2: Train size = 50%, Test size = 50%\n",
    "X_train_50, X_test_50, Y_train_50, Y_test_50 = train_test_split(X, Y, train_size=0.5, random_state=42)\n",
    "grid_search_50 = GridSearchCV(estimator, param_grid, cv=3, scoring=\"accuracy\")\n",
    "grid_search_50.fit(X_train_50, Y_train_50)\n",
    "best_params_50 = grid_search_50.best_params_\n",
    "cv_score_50 = grid_search_50.best_score_\n",
    "additional_cv_score_50 = np.mean(cross_val_score(grid_search_50.best_estimator_, X_train_50, Y_train_50, cv=3))\n",
    "\n",
    "print(\"\\nResults for 50% training data:\")\n",
    "print(\"Best parameters:\", best_params_50)\n",
    "print(f\"Cross-validated Accuracy (GridSearchCV): {cv_score_50:.4f}\")\n",
    "print(f\"Additional Cross-validated Accuracy: {additional_cv_score_50:.4f}\")\n",
    "y_pred_50 = grid_search_50.best_estimator_.predict(X_test_50)\n",
    "print(\"Classification Report:\")\n",
    "print(classification_report(Y_test_50, y_pred_50))\n",
    "\n",
    "# Split 3: Train size = 80%, Test size = 20%\n",
    "X_train_80, X_test_80, Y_train_80, Y_test_80 = train_test_split(X, Y, train_size=0.8, random_state=42)\n",
    "grid_search_80 = GridSearchCV(estimator, param_grid, cv=3, scoring=\"accuracy\")\n",
    "grid_search_80.fit(X_train_80, Y_train_80)\n",
    "best_params_80 = grid_search_80.best_params_\n",
    "cv_score_80 = grid_search_80.best_score_\n",
    "additional_cv_score_80 = np.mean(cross_val_score(grid_search_80.best_estimator_, X_train_80, Y_train_80, cv=3))\n",
    "\n",
    "print(\"\\nResults for 80% training data:\")\n",
    "print(\"Best parameters:\", best_params_80)\n",
    "print(f\"Cross-validated Accuracy (GridSearchCV): {cv_score_80:.4f}\")\n",
    "print(f\"Additional Cross-validated Accuracy: {additional_cv_score_80:.4f}\")\n",
    "y_pred_80 = grid_search_80.best_estimator_.predict(X_test_80)\n",
    "print(\"Classification Report:\")\n",
    "print(classification_report(Y_test_80, y_pred_80))\n"
   ]
  },
  {
   "cell_type": "code",
   "execution_count": 95,
   "metadata": {},
   "outputs": [
    {
     "name": "stdout",
     "output_type": "stream",
     "text": [
      "\n",
      "Trial 1 Results:\n",
      "Accuracy: 0.9479\n",
      "Classification Report:\n",
      "              precision    recall  f1-score   support\n",
      "\n",
      "        -1.0       0.99      0.95      0.97      1273\n",
      "         1.0       0.62      0.92      0.74       110\n",
      "\n",
      "    accuracy                           0.95      1383\n",
      "   macro avg       0.80      0.93      0.85      1383\n",
      "weighted avg       0.96      0.95      0.95      1383\n",
      "\n",
      "\n",
      "Trial 2 Results:\n",
      "Accuracy: 0.9487\n",
      "Classification Report:\n",
      "              precision    recall  f1-score   support\n",
      "\n",
      "        -1.0       0.95      0.99      0.97      1268\n",
      "         1.0       0.88      0.44      0.59       115\n",
      "\n",
      "    accuracy                           0.95      1383\n",
      "   macro avg       0.92      0.72      0.78      1383\n",
      "weighted avg       0.95      0.95      0.94      1383\n",
      "\n",
      "\n",
      "Trial 3 Results:\n",
      "Accuracy: 0.9501\n",
      "Classification Report:\n",
      "              precision    recall  f1-score   support\n",
      "\n",
      "        -1.0       0.95      1.00      0.97      1266\n",
      "         1.0       0.94      0.44      0.60       117\n",
      "\n",
      "    accuracy                           0.95      1383\n",
      "   macro avg       0.95      0.72      0.78      1383\n",
      "weighted avg       0.95      0.95      0.94      1383\n",
      "\n",
      "\n",
      "Average Accuracy over 3 trials: 0.9489\n"
     ]
    }
   ],
   "source": [
    "from sklearn.model_selection import train_test_split\n",
    "from sklearn.tree import DecisionTreeClassifier\n",
    "from sklearn.metrics import classification_report, accuracy_score\n",
    "import numpy as np\n",
    "\n",
    "# Assume best_params_20 is already defined from previous GridSearchCV\n",
    "\n",
    "accuracies_20 = []\n",
    "\n",
    "for trial in range(3):\n",
    "    X_train, X_test, Y_train, Y_test = train_test_split(X, Y, train_size=0.2, random_state=None)\n",
    "    \n",
    "    # Create the classifier with best_params_20n\n",
    "    best_model = DecisionTreeClassifier(criterion='entropy', **best_params_20)\n",
    "    \n",
    "    # Fit the model\n",
    "    best_model.fit(X_train, Y_train)\n",
    "    \n",
    "    # Make predictions\n",
    "    y_pred = best_model.predict(X_test)\n",
    "    \n",
    "    # Calculate accuracy\n",
    "    accuracy = accuracy_score(Y_test, y_pred)\n",
    "    accuracies_20.append(accuracy)\n",
    "    \n",
    "    print(f\"\\nTrial {trial + 1} Results:\")\n",
    "    print(f\"Accuracy: {accuracy:.4f}\")\n",
    "    print(\"Classification Report:\")\n",
    "    print(classification_report(Y_test, y_pred))\n",
    "\n",
    "average_accuracy = np.mean(accuracies_20)\n",
    "print(f\"\\nAverage Accuracy over 3 trials: {average_accuracy:.4f}\")\n"
   ]
  },
  {
   "cell_type": "code",
   "execution_count": 96,
   "metadata": {},
   "outputs": [
    {
     "name": "stdout",
     "output_type": "stream",
     "text": [
      "\n",
      "Trial 1 Results:\n",
      "Accuracy: 0.9630\n",
      "Classification Report:\n",
      "              precision    recall  f1-score   support\n",
      "\n",
      "        -1.0       0.98      0.98      0.98       800\n",
      "         1.0       0.75      0.75      0.75        64\n",
      "\n",
      "    accuracy                           0.96       864\n",
      "   macro avg       0.86      0.86      0.86       864\n",
      "weighted avg       0.96      0.96      0.96       864\n",
      "\n",
      "\n",
      "Trial 2 Results:\n",
      "Accuracy: 0.9664\n",
      "Classification Report:\n",
      "              precision    recall  f1-score   support\n",
      "\n",
      "        -1.0       0.98      0.98      0.98       796\n",
      "         1.0       0.78      0.79      0.79        68\n",
      "\n",
      "    accuracy                           0.97       864\n",
      "   macro avg       0.88      0.89      0.89       864\n",
      "weighted avg       0.97      0.97      0.97       864\n",
      "\n",
      "\n",
      "Trial 3 Results:\n",
      "Accuracy: 0.9491\n",
      "Classification Report:\n",
      "              precision    recall  f1-score   support\n",
      "\n",
      "        -1.0       0.96      0.99      0.97       801\n",
      "         1.0       0.79      0.41      0.54        63\n",
      "\n",
      "    accuracy                           0.95       864\n",
      "   macro avg       0.87      0.70      0.76       864\n",
      "weighted avg       0.94      0.95      0.94       864\n",
      "\n",
      "\n",
      "Average Accuracy over 3 trials: 0.9595\n"
     ]
    }
   ],
   "source": [
    "\n",
    "\n",
    "accuracies_50 = []\n",
    "\n",
    "for trial in range(3):\n",
    "    X_train, X_test, Y_train, Y_test = train_test_split(X, Y, train_size=0.5, random_state=None)\n",
    "    \n",
    "    # Create the classifier with best_params_20\n",
    "    best_model = DecisionTreeClassifier(criterion='entropy', **best_params_50)\n",
    "    \n",
    "    # Fit the model\n",
    "    best_model.fit(X_train, Y_train)\n",
    "    \n",
    "    # Make predictions\n",
    "    y_pred = best_model.predict(X_test)\n",
    "    \n",
    "    # Calculate accuracy\n",
    "    accuracy = accuracy_score(Y_test, y_pred)\n",
    "    accuracies_50.append(accuracy)\n",
    "    \n",
    "    print(f\"\\nTrial {trial + 1} Results:\")\n",
    "    print(f\"Accuracy: {accuracy:.4f}\")\n",
    "    print(\"Classification Report:\")\n",
    "    print(classification_report(Y_test, y_pred))\n",
    "\n",
    "average_accuracy = np.mean(accuracies_50)\n",
    "print(f\"\\nAverage Accuracy over 3 trials: {average_accuracy:.4f}\")\n"
   ]
  },
  {
   "cell_type": "code",
   "execution_count": 84,
   "metadata": {},
   "outputs": [
    {
     "name": "stdout",
     "output_type": "stream",
     "text": [
      "\n",
      "Trial 1 Results:\n",
      "Accuracy: 0.9653\n",
      "Classification Report:\n",
      "              precision    recall  f1-score   support\n",
      "\n",
      "        -1.0       0.97      0.99      0.98       326\n",
      "         1.0       0.79      0.55      0.65        20\n",
      "\n",
      "    accuracy                           0.97       346\n",
      "   macro avg       0.88      0.77      0.81       346\n",
      "weighted avg       0.96      0.97      0.96       346\n",
      "\n",
      "\n",
      "Trial 2 Results:\n",
      "Accuracy: 0.9451\n",
      "Classification Report:\n",
      "              precision    recall  f1-score   support\n",
      "\n",
      "        -1.0       0.95      0.99      0.97       312\n",
      "         1.0       0.83      0.56      0.67        34\n",
      "\n",
      "    accuracy                           0.95       346\n",
      "   macro avg       0.89      0.77      0.82       346\n",
      "weighted avg       0.94      0.95      0.94       346\n",
      "\n",
      "\n",
      "Trial 3 Results:\n",
      "Accuracy: 0.9566\n",
      "Classification Report:\n",
      "              precision    recall  f1-score   support\n",
      "\n",
      "        -1.0       0.98      0.97      0.98       320\n",
      "         1.0       0.70      0.73      0.72        26\n",
      "\n",
      "    accuracy                           0.96       346\n",
      "   macro avg       0.84      0.85      0.85       346\n",
      "weighted avg       0.96      0.96      0.96       346\n",
      "\n",
      "\n",
      "Average Accuracy over 3 trials: 0.9557\n"
     ]
    }
   ],
   "source": [
    "\n",
    "accuracies_80 = []\n",
    "\n",
    "for trial in range(3):\n",
    "    X_train, X_test, Y_train, Y_test = train_test_split(X, Y, train_size=0.8, random_state=None)\n",
    "    \n",
    "    # Create the classifier with best_params_20\n",
    "    best_model = DecisionTreeClassifier(criterion='entropy', **best_params_80)\n",
    "    \n",
    "    # Fit the model\n",
    "    best_model.fit(X_train, Y_train)\n",
    "    \n",
    "    # Make predictions\n",
    "    y_pred = best_model.predict(X_test)\n",
    "    \n",
    "    # Calculate accuracy\n",
    "    accuracy = accuracy_score(Y_test, y_pred)\n",
    "    accuracies_80.append(accuracy)\n",
    "    \n",
    "    print(f\"\\nTrial {trial + 1} Results:\")\n",
    "    print(f\"Accuracy: {accuracy:.4f}\")\n",
    "    print(\"Classification Report:\")\n",
    "    print(classification_report(Y_test, y_pred))\n",
    "\n",
    "average_accuracy = np.mean(accuracies_80)\n",
    "print(f\"\\nAverage Accuracy over 3 trials: {average_accuracy:.4f}\")\n"
   ]
  },
  {
   "cell_type": "markdown",
   "metadata": {},
   "source": [
    "## KNN"
   ]
  },
  {
   "cell_type": "code",
   "execution_count": 97,
   "metadata": {},
   "outputs": [],
   "source": [
    "import numpy as np\n",
    "import matplotlib.pyplot as plt\n",
    "from sklearn import datasets\n",
    "import scipy\n",
    "from matplotlib.colors import ListedColormap\n",
    "from functools import partial"
   ]
  },
  {
   "cell_type": "code",
   "execution_count": 98,
   "metadata": {},
   "outputs": [
    {
     "name": "stdout",
     "output_type": "stream",
     "text": [
      "(1728,)\n",
      "(1728, 6)\n"
     ]
    }
   ],
   "source": [
    "print(Y.shape)\n",
    "print(X.shape)"
   ]
  },
  {
   "cell_type": "code",
   "execution_count": 99,
   "metadata": {},
   "outputs": [
    {
     "name": "stdout",
     "output_type": "stream",
     "text": [
      "Best parameters: {'n_neighbors': np.int64(5)}\n",
      "Best cross-validation score: 0.9717768556069037\n",
      "Test accuracy with best parameters: 0.9682080924855492\n"
     ]
    }
   ],
   "source": [
    "import numpy as np\n",
    "import pandas as pd\n",
    "from sklearn.model_selection import train_test_split, GridSearchCV\n",
    "from sklearn.neighbors import KNeighborsClassifier\n",
    "from sklearn.metrics import accuracy_score\n",
    "from sklearn.preprocessing import MinMaxScaler\n",
    "from sklearn.metrics import confusion_matrix\n",
    "from sklearn.metrics import classification_report\n",
    "\n",
    "# Assuming X and Y are your feature matrix and target vector\n",
    "# Example data (replace with your actual data)\n",
    "# X = np.array(...)  # Your feature data\n",
    "# Y = np.array(...)  # Your target data\n",
    "\n",
    "# Split the data into training and testing sets\n",
    "X_train, X_test, y_train, y_test = train_test_split(X, Y, test_size=0.2, random_state=42)\n",
    "\n",
    "# Define the parameter grid for GridSearchCV\n",
    "param_grid = {'n_neighbors': np.arange(1, 27)}  # Testing k values from 1 to 20\n",
    "\n",
    "# Create a k-NN classifier\n",
    "knn = KNeighborsClassifier()\\\n",
    "\n",
    "# Perform GridSearchCV to find the best hyperparameters\n",
    "grid_search = GridSearchCV(knn, param_grid, cv=3, scoring='accuracy', return_train_score=True)\n",
    "grid_search.fit(X_train, y_train)\n",
    "\n",
    "# Get the best parameters and score\n",
    "best_params = grid_search.best_params_\n",
    "best_score = grid_search.best_score_\n",
    "\n",
    "print(\"Best parameters:\", best_params)\n",
    "print(\"Best cross-validation score:\", best_score)\n",
    "\n",
    "# Evaluate on the test set using the best model\n",
    "best_knn = grid_search.best_estimator_\n",
    "test_accuracy = accuracy_score(y_test, best_knn.predict(X_test))\n",
    "print(\"Test accuracy with best parameters:\", test_accuracy)"
   ]
  },
  {
   "cell_type": "code",
   "execution_count": 100,
   "metadata": {},
   "outputs": [
    {
     "name": "stdout",
     "output_type": "stream",
     "text": [
      "Trial 1\n",
      "Accuracy: 0.9667389732465654\n",
      "Confusion Matrix:\n",
      "[[1269    9]\n",
      " [  37   68]]\n",
      "Classification Report:\n",
      "              precision    recall  f1-score   support\n",
      "\n",
      "        -1.0       0.97      0.99      0.98      1278\n",
      "         1.0       0.88      0.65      0.75       105\n",
      "\n",
      "    accuracy                           0.97      1383\n",
      "   macro avg       0.93      0.82      0.86      1383\n",
      "weighted avg       0.96      0.97      0.96      1383\n",
      "\n",
      "Trial 2\n",
      "Accuracy: 0.970354302241504\n",
      "Confusion Matrix:\n",
      "[[1265   15]\n",
      " [  26   77]]\n",
      "Classification Report:\n",
      "              precision    recall  f1-score   support\n",
      "\n",
      "        -1.0       0.98      0.99      0.98      1280\n",
      "         1.0       0.84      0.75      0.79       103\n",
      "\n",
      "    accuracy                           0.97      1383\n",
      "   macro avg       0.91      0.87      0.89      1383\n",
      "weighted avg       0.97      0.97      0.97      1383\n",
      "\n",
      "Trial 3\n",
      "Accuracy: 0.9508315256688359\n",
      "Confusion Matrix:\n",
      "[[1263   11]\n",
      " [  57   52]]\n",
      "Classification Report:\n",
      "              precision    recall  f1-score   support\n",
      "\n",
      "        -1.0       0.96      0.99      0.97      1274\n",
      "         1.0       0.83      0.48      0.60       109\n",
      "\n",
      "    accuracy                           0.95      1383\n",
      "   macro avg       0.89      0.73      0.79      1383\n",
      "weighted avg       0.95      0.95      0.94      1383\n",
      "\n",
      "\n",
      "Final Report\n",
      "Average Accuracy: 0.9626416003856351\n"
     ]
    }
   ],
   "source": [
    "# Assuming X, Y, and best_params are defined\n",
    "\n",
    "# Initialize variables for storing results\n",
    "accuracies = []\n",
    "confusion_matrices = []\n",
    "classification_reports = []\n",
    "\n",
    "# Perform 3 trials\n",
    "for trial in range(3):\n",
    "    print(f\"Trial {trial + 1}\")\n",
    "\n",
    "    # Split the data\n",
    "    X_train, X_test, Y_train, Y_test = train_test_split(X, Y, random_state=None, train_size=0.2)\n",
    "\n",
    "    # Scale the data\n",
    "    scaler = MinMaxScaler(feature_range=(0, 1))\n",
    "    X_train = scaler.fit_transform(X_train)\n",
    "    X_test = scaler.transform(X_test)  # Use transform, not fit_transform, for test data\n",
    "\n",
    "    # Train the KNN classifier\n",
    "    knn = KNeighborsClassifier(**best_params)\n",
    "    knn.fit(X_train, Y_train)\n",
    "\n",
    "    # Make predictions\n",
    "    y_pred = knn.predict(X_test)\n",
    "\n",
    "    # Calculate and save accuracy\n",
    "    accuracy = knn.score(X_test, Y_test)\n",
    "    accuracies.append(accuracy)\n",
    "    print(f\"Accuracy: {accuracy}\")\n",
    "\n",
    "    # Calculate and save confusion matrix and classification report\n",
    "    cm = confusion_matrix(Y_test, y_pred)\n",
    "    confusion_matrices.append(cm)\n",
    "    print(f\"Confusion Matrix:\\n{cm}\")\n",
    "\n",
    "    cr = classification_report(Y_test, y_pred)\n",
    "    classification_reports.append(cr)\n",
    "    print(f\"Classification Report:\\n{cr}\")\n",
    "\n",
    "# Calculate the average accuracy\n",
    "average_accuracy_1 = np.mean(accuracies)\n",
    "print(\"\\nFinal Report\")\n",
    "print(f\"Average Accuracy: {average_accuracy_1}\")\n"
   ]
  },
  {
   "cell_type": "code",
   "execution_count": 101,
   "metadata": {},
   "outputs": [
    {
     "data": {
      "image/png": "[encoded data removed]",
      "text/plain": [
       "<Figure size 1000x600 with 1 Axes>"
      ]
     },
     "metadata": {},
     "output_type": "display_data"
    },
    {
     "name": "stdout",
     "output_type": "stream",
     "text": [
      "Best parameters: {'n_neighbors': np.int64(3)}\n",
      "Best cross-validation score: 0.9571759259259259\n",
      "Test accuracy with best parameters: 0.9768518518518519\n"
     ]
    }
   ],
   "source": [
    "# Split the data into training and testing sets\n",
    "X_train, X_test, y_train, y_test = train_test_split(X, Y, train_size=0.5, random_state=42)\n",
    "\n",
    "# Define the parameter grid for GridSearchCV\n",
    "param_grid = {'n_neighbors': np.arange(1, 21)}  # Testing k values from 1 to 20\n",
    "\n",
    "# Create a k-NN classifier\n",
    "knn = KNeighborsClassifier()\\\n",
    "\n",
    "# Perform GridSearchCV to find the best hyperparameters\n",
    "grid_search = GridSearchCV(knn, param_grid, cv=3, scoring='accuracy', return_train_score=True)\n",
    "grid_search.fit(X_train, y_train)\n",
    "\n",
    "# Visualize the results\n",
    "results = grid_search.cv_results_\n",
    "k_values = param_grid['n_neighbors']\n",
    "mean_train_scores = results['mean_train_score']\n",
    "mean_test_scores = results['mean_test_score']\n",
    "\n",
    "plt.figure(figsize=(10, 6))\n",
    "plt.plot(k_values, mean_train_scores, label='Mean Training Accuracy', marker='o')\n",
    "plt.plot(k_values, mean_test_scores, label='Mean Cross-Validation Accuracy', marker='o')\n",
    "plt.axvline(grid_search.best_params_['n_neighbors'], color='r', linestyle='--', label='Best k')\n",
    "plt.title('k-NN Parameter Tuning')\n",
    "plt.xlabel('Number of Neighbors (k)')\n",
    "plt.ylabel('Accuracy')\n",
    "plt.legend()\n",
    "plt.grid()\n",
    "plt.show()\n",
    "\n",
    "# Get the best parameters and score\n",
    "best_params = grid_search.best_params_\n",
    "best_score = grid_search.best_score_\n",
    "\n",
    "print(\"Best parameters:\", best_params)\n",
    "print(\"Best cross-validation score:\", best_score)\n",
    "\n",
    "# Evaluate on the test set using the best model\n",
    "best_knn = grid_search.best_estimator_\n",
    "test_accuracy = accuracy_score(y_test, best_knn.predict(X_test))\n",
    "print(\"Test accuracy with best parameters:\", test_accuracy)"
   ]
  },
  {
   "cell_type": "code",
   "execution_count": 102,
   "metadata": {},
   "outputs": [
    {
     "name": "stdout",
     "output_type": "stream",
     "text": [
      "Trial 1\n",
      "Accuracy: 0.9583333333333334\n",
      "Confusion Matrix:\n",
      "[[785   8]\n",
      " [ 28  43]]\n",
      "Classification Report:\n",
      "              precision    recall  f1-score   support\n",
      "\n",
      "        -1.0       0.97      0.99      0.98       793\n",
      "         1.0       0.84      0.61      0.70        71\n",
      "\n",
      "    accuracy                           0.96       864\n",
      "   macro avg       0.90      0.80      0.84       864\n",
      "weighted avg       0.96      0.96      0.96       864\n",
      "\n",
      "Trial 2\n",
      "Accuracy: 0.9629629629629629\n",
      "Confusion Matrix:\n",
      "[[793  11]\n",
      " [ 21  39]]\n",
      "Classification Report:\n",
      "              precision    recall  f1-score   support\n",
      "\n",
      "        -1.0       0.97      0.99      0.98       804\n",
      "         1.0       0.78      0.65      0.71        60\n",
      "\n",
      "    accuracy                           0.96       864\n",
      "   macro avg       0.88      0.82      0.84       864\n",
      "weighted avg       0.96      0.96      0.96       864\n",
      "\n",
      "Trial 3\n",
      "Accuracy: 0.9722222222222222\n",
      "Confusion Matrix:\n",
      "[[796   4]\n",
      " [ 20  44]]\n",
      "Classification Report:\n",
      "              precision    recall  f1-score   support\n",
      "\n",
      "        -1.0       0.98      0.99      0.99       800\n",
      "         1.0       0.92      0.69      0.79        64\n",
      "\n",
      "    accuracy                           0.97       864\n",
      "   macro avg       0.95      0.84      0.89       864\n",
      "weighted avg       0.97      0.97      0.97       864\n",
      "\n",
      "\n",
      "Final Report\n",
      "Average Accuracy: 0.9645061728395062\n"
     ]
    }
   ],
   "source": [
    "\n",
    "\n",
    "# Initialize variables for storing results\n",
    "accuracies = []\n",
    "confusion_matrices = []\n",
    "classification_reports = []\n",
    "\n",
    "# Perform 3 trials\n",
    "for trial in range(3):\n",
    "    print(f\"Trial {trial + 1}\")\n",
    "\n",
    "    # Split the data\n",
    "    X_train, X_test, Y_train, Y_test = train_test_split(X, Y, random_state=None, train_size=0.5)\n",
    "\n",
    "    # Scale the data\n",
    "    scaler = MinMaxScaler(feature_range=(0, 1))\n",
    "    X_train = scaler.fit_transform(X_train)\n",
    "    X_test = scaler.transform(X_test)  # Use transform, not fit_transform, for test data\n",
    "\n",
    "    # Train the KNN classifier\n",
    "    knn = KNeighborsClassifier(**best_params)\n",
    "    knn.fit(X_train, Y_train)\n",
    "\n",
    "    # Make predictions\n",
    "    y_pred = knn.predict(X_test)\n",
    "\n",
    "    # Calculate and save accuracy\n",
    "    accuracy = knn.score(X_test, Y_test)\n",
    "    accuracies.append(accuracy)\n",
    "    print(f\"Accuracy: {accuracy}\")\n",
    "\n",
    "    # Calculate and save confusion matrix and classification report\n",
    "    cm = confusion_matrix(Y_test, y_pred)\n",
    "    confusion_matrices.append(cm)\n",
    "    print(f\"Confusion Matrix:\\n{cm}\")\n",
    "\n",
    "    cr = classification_report(Y_test, y_pred)\n",
    "    classification_reports.append(cr)\n",
    "    print(f\"Classification Report:\\n{cr}\")\n",
    "\n",
    "# Calculate the average accuracy\n",
    "average_accuracy_2 = np.mean(accuracies)\n",
    "print(\"\\nFinal Report\")\n",
    "print(f\"Average Accuracy: {average_accuracy_2}\")\n"
   ]
  },
  {
   "cell_type": "code",
   "execution_count": 103,
   "metadata": {},
   "outputs": [
    {
     "data": {
      "image/png": "[encoded data removed]",
      "text/plain": [
       "<Figure size 1000x600 with 1 Axes>"
      ]
     },
     "metadata": {},
     "output_type": "display_data"
    },
    {
     "name": "stdout",
     "output_type": "stream",
     "text": [
      "Best parameters: {'n_neighbors': np.int64(5)}\n",
      "Best cross-validation score: 0.9717768556069037\n",
      "Test accuracy with best parameters: 0.9682080924855492\n"
     ]
    }
   ],
   "source": [
    "# Split the data into training and testing sets\n",
    "X_train, X_test, y_train, y_test = train_test_split(X, Y, train_size=0.8, random_state=42)\n",
    "\n",
    "# Define the parameter grid for GridSearchCV\n",
    "param_grid = {'n_neighbors': np.arange(1, 21)}  # Testing k values from 1 to 20\n",
    "\n",
    "# Create a k-NN classifier\n",
    "knn = KNeighborsClassifier()\\\n",
    "\n",
    "# Perform GridSearchCV to find the best hyperparameters\n",
    "grid_search = GridSearchCV(knn, param_grid, cv=3, scoring='accuracy', return_train_score=True)\n",
    "grid_search.fit(X_train, y_train)\n",
    "\n",
    "# Visualize the results\n",
    "results = grid_search.cv_results_\n",
    "k_values = param_grid['n_neighbors']\n",
    "mean_train_scores = results['mean_train_score']\n",
    "mean_test_scores = results['mean_test_score']\n",
    "\n",
    "plt.figure(figsize=(10, 6))\n",
    "plt.plot(k_values, mean_train_scores, label='Mean Training Accuracy', marker='o')\n",
    "plt.plot(k_values, mean_test_scores, label='Mean Cross-Validation Accuracy', marker='o')\n",
    "plt.axvline(grid_search.best_params_['n_neighbors'], color='r', linestyle='--', label='Best k')\n",
    "plt.title('k-NN Parameter Tuning')\n",
    "plt.xlabel('Number of Neighbors (k)')\n",
    "plt.ylabel('Accuracy')\n",
    "plt.legend()\n",
    "plt.grid()\n",
    "plt.show()\n",
    "\n",
    "# Get the best parameters and score\n",
    "best_params = grid_search.best_params_\n",
    "best_score = grid_search.best_score_\n",
    "\n",
    "print(\"Best parameters:\", best_params)\n",
    "print(\"Best cross-validation score:\", best_score)\n",
    "\n",
    "# Evaluate on the test set using the best model\n",
    "best_knn = grid_search.best_estimator_\n",
    "test_accuracy = accuracy_score(y_test, best_knn.predict(X_test))\n",
    "print(\"Test accuracy with best parameters:\", test_accuracy)"
   ]
  },
  {
   "cell_type": "code",
   "execution_count": 104,
   "metadata": {},
   "outputs": [
    {
     "name": "stdout",
     "output_type": "stream",
     "text": [
      "Trial 1\n",
      "Accuracy: 0.9624277456647399\n",
      "Confusion Matrix:\n",
      "[[312   2]\n",
      " [ 11  21]]\n",
      "Classification Report:\n",
      "              precision    recall  f1-score   support\n",
      "\n",
      "        -1.0       0.97      0.99      0.98       314\n",
      "         1.0       0.91      0.66      0.76        32\n",
      "\n",
      "    accuracy                           0.96       346\n",
      "   macro avg       0.94      0.82      0.87       346\n",
      "weighted avg       0.96      0.96      0.96       346\n",
      "\n",
      "Trial 2\n",
      "Accuracy: 0.9682080924855492\n",
      "Confusion Matrix:\n",
      "[[321   1]\n",
      " [ 10  14]]\n",
      "Classification Report:\n",
      "              precision    recall  f1-score   support\n",
      "\n",
      "        -1.0       0.97      1.00      0.98       322\n",
      "         1.0       0.93      0.58      0.72        24\n",
      "\n",
      "    accuracy                           0.97       346\n",
      "   macro avg       0.95      0.79      0.85       346\n",
      "weighted avg       0.97      0.97      0.96       346\n",
      "\n",
      "Trial 3\n",
      "Accuracy: 0.9566473988439307\n",
      "Confusion Matrix:\n",
      "[[314   3]\n",
      " [ 12  17]]\n",
      "Classification Report:\n",
      "              precision    recall  f1-score   support\n",
      "\n",
      "        -1.0       0.96      0.99      0.98       317\n",
      "         1.0       0.85      0.59      0.69        29\n",
      "\n",
      "    accuracy                           0.96       346\n",
      "   macro avg       0.91      0.79      0.84       346\n",
      "weighted avg       0.95      0.96      0.95       346\n",
      "\n",
      "\n",
      "Final Report\n",
      "Average Accuracy: 0.96242774566474\n"
     ]
    }
   ],
   "source": [
    "# Assuming X, Y, and best_params are defined\n",
    "\n",
    "# Initialize variables for storing results\n",
    "accuracies = []\n",
    "confusion_matrices = []\n",
    "classification_reports = []\n",
    "\n",
    "# Perform 3 trials\n",
    "for trial in range(3):\n",
    "    print(f\"Trial {trial + 1}\")\n",
    "\n",
    "    # Split the data\n",
    "    X_train, X_test, Y_train, Y_test = train_test_split(X, Y, random_state=None, train_size=0.8)\n",
    "\n",
    "    # Scale the data\n",
    "    scaler = MinMaxScaler(feature_range=(0, 1))\n",
    "    X_train = scaler.fit_transform(X_train)\n",
    "    X_test = scaler.transform(X_test)  # Use transform, not fit_transform, for test data\n",
    "\n",
    "    # Train the KNN classifier\n",
    "    knn = KNeighborsClassifier(**best_params)\n",
    "    knn.fit(X_train, Y_train)\n",
    "\n",
    "    # Make predictions\n",
    "    y_pred = knn.predict(X_test)\n",
    "\n",
    "    # Calculate and save accuracy\n",
    "    accuracy = knn.score(X_test, Y_test)\n",
    "    accuracies.append(accuracy)\n",
    "    print(f\"Accuracy: {accuracy}\")\n",
    "\n",
    "    # Calculate and save confusion matrix and classification report\n",
    "    cm = confusion_matrix(Y_test, y_pred)\n",
    "    confusion_matrices.append(cm)\n",
    "    print(f\"Confusion Matrix:\\n{cm}\")\n",
    "\n",
    "    cr = classification_report(Y_test, y_pred)\n",
    "    classification_reports.append(cr)\n",
    "    print(f\"Classification Report:\\n{cr}\")\n",
    "\n",
    "# Calculate the average accuracy\n",
    "average_accuracy_3 = np.mean(accuracies)\n",
    "print(\"\\nFinal Report\")\n",
    "print(f\"Average Accuracy: {average_accuracy_3}\")\n"
   ]
  },
  {
   "cell_type": "markdown",
   "metadata": {},
   "source": [
    "## Random forest"
   ]
  },
  {
   "cell_type": "code",
   "execution_count": 105,
   "metadata": {},
   "outputs": [],
   "source": [
    "from sklearn.model_selection import train_test_split, GridSearchCV\n",
    "from sklearn.preprocessing import MinMaxScaler\n",
    "from sklearn.ensemble import RandomForestClassifier\n",
    "from sklearn.metrics import confusion_matrix, classification_report, accuracy_score\n",
    "import numpy as np\n",
    "import matplotlib.pyplot as plt\n",
    "\n",
    "# Assuming X, Y are defined\n",
    "\n",
    "# Define the parameter grid for GridSearchCV\n",
    "param_grid = {\n",
    "    'n_estimators': [50, 100, 150],\n",
    "    'max_depth': [None, 10, 20, 30],\n",
    "    'min_samples_split': [2, 5],\n",
    "    'max_features': [1, 8, 20]\n",
    "}\n",
    "\n",
    "# Find best parameters for each split\n",
    "X_train_20, X_test_20, y_train_20, y_test_20 = train_test_split(X, Y, train_size=0.2, random_state=42)\n",
    "grid_search_20 = GridSearchCV(RandomForestClassifier(), param_grid, cv=3, scoring='accuracy')\n",
    "grid_search_20.fit(X_train_20, y_train_20)\n",
    "best_params_20 = grid_search_20.best_params_\n",
    "\n",
    "X_train_50, X_test_50, y_train_50, y_test_50 = train_test_split(X, Y, train_size=0.5, random_state=42)\n",
    "grid_search_50 = GridSearchCV(RandomForestClassifier(), param_grid, cv=3, scoring='accuracy')\n",
    "grid_search_50.fit(X_train_50, y_train_50)\n",
    "best_params_50 = grid_search_50.best_params_\n",
    "\n",
    "X_train_80, X_test_80, y_train_80, y_test_80 = train_test_split(X, Y, train_size=0.8, random_state=42)\n",
    "grid_search_80 = GridSearchCV(RandomForestClassifier(), param_grid, cv=3, scoring='accuracy')\n",
    "grid_search_80.fit(X_train_80, y_train_80)\n",
    "best_params_80 = grid_search_80.best_params_\n",
    "\n",
    "# Visualization of hyperparameter tuning\n",
    "results_20 = grid_search_20.cv_results_\n",
    "results_50 = grid_search_50.cv_results_\n",
    "results_80 = grid_search_80.cv_results_"
   ]
  },
  {
   "cell_type": "code",
   "execution_count": 106,
   "metadata": {},
   "outputs": [
    {
     "data": {
      "image/png": "[encoded data removed]",
      "text/plain": [
       "<Figure size 1200x600 with 1 Axes>"
      ]
     },
     "metadata": {},
     "output_type": "display_data"
    }
   ],
   "source": [
    "plt.figure(figsize=(12, 6))\n",
    "plt.plot(results_20['mean_test_score'], label='20% Training Data')\n",
    "plt.plot(results_50['mean_test_score'], label='50% Training Data')\n",
    "plt.plot(results_80['mean_test_score'], label='80% Training Data')\n",
    "plt.xlabel('Parameter Index')\n",
    "plt.ylabel('Mean Test Accuracy')\n",
    "plt.title('Hyperparameter Tuning Results')\n",
    "plt.legend()\n",
    "plt.show()"
   ]
  },
  {
   "cell_type": "code",
   "execution_count": 107,
   "metadata": {},
   "outputs": [
    {
     "name": "stdout",
     "output_type": "stream",
     "text": [
      "20% Training Data\n",
      "Trial 1 Accuracy: 0.9667389732465654\n",
      "Classification Report for Trial 1:               precision    recall  f1-score   support\n",
      "\n",
      "        -1.0       0.98      0.99      0.98      1277\n",
      "         1.0       0.82      0.73      0.77       106\n",
      "\n",
      "    accuracy                           0.97      1383\n",
      "   macro avg       0.90      0.86      0.88      1383\n",
      "weighted avg       0.97      0.97      0.97      1383\n",
      "\n",
      "Trial 2 Accuracy: 0.9696312364425163\n",
      "Classification Report for Trial 2:               precision    recall  f1-score   support\n",
      "\n",
      "        -1.0       0.97      1.00      0.98      1273\n",
      "         1.0       0.94      0.66      0.78       110\n",
      "\n",
      "    accuracy                           0.97      1383\n",
      "   macro avg       0.95      0.83      0.88      1383\n",
      "weighted avg       0.97      0.97      0.97      1383\n",
      "\n",
      "Trial 3 Accuracy: 0.9631236442516269\n",
      "Classification Report for Trial 3:               precision    recall  f1-score   support\n",
      "\n",
      "        -1.0       0.97      0.99      0.98      1272\n",
      "         1.0       0.87      0.64      0.74       111\n",
      "\n",
      "    accuracy                           0.96      1383\n",
      "   macro avg       0.92      0.82      0.86      1383\n",
      "weighted avg       0.96      0.96      0.96      1383\n",
      "\n",
      "Average Accuracy for 20% Training Data: 0.9664979513135696\n",
      "\n"
     ]
    }
   ],
   "source": [
    "# Code block for 20% split\n",
    "print(\"20% Training Data\")\n",
    "accuracies_20 = []\n",
    "for trial in range(3):\n",
    "    X_train, X_test, y_train, y_test = train_test_split(X, Y, train_size=0.2, random_state=None, shuffle=True)\n",
    "    scaler = MinMaxScaler()\n",
    "    X_train = scaler.fit_transform(X_train)\n",
    "    X_test = scaler.transform(X_test)\n",
    "    rf = RandomForestClassifier(**best_params_20)\n",
    "    rf.fit(X_train, y_train)\n",
    "    y_pred = rf.predict(X_test)\n",
    "    accuracy = accuracy_score(y_test, y_pred)\n",
    "    accuracies_20.append(accuracy)\n",
    "    print(f\"Trial {trial + 1} Accuracy: {accuracy}\")\n",
    "    print(f\"Classification Report for Trial {trial + 1}: {classification_report(y_test, y_pred)}\")\n",
    "print(f\"Average Accuracy for 20% Training Data: {np.mean(accuracies_20)}\\n\")\n",
    "\n"
   ]
  },
  {
   "cell_type": "code",
   "execution_count": 108,
   "metadata": {},
   "outputs": [
    {
     "name": "stdout",
     "output_type": "stream",
     "text": [
      "50% Training Data\n",
      "Trial 1 Accuracy: 0.9872685185185185\n",
      "Classification Report for Trial 1:               precision    recall  f1-score   support\n",
      "\n",
      "        -1.0       0.99      0.99      0.99       793\n",
      "         1.0       0.93      0.92      0.92        71\n",
      "\n",
      "    accuracy                           0.99       864\n",
      "   macro avg       0.96      0.95      0.96       864\n",
      "weighted avg       0.99      0.99      0.99       864\n",
      "\n",
      "Trial 2 Accuracy: 0.9861111111111112\n",
      "Classification Report for Trial 2:               precision    recall  f1-score   support\n",
      "\n",
      "        -1.0       1.00      0.99      0.99       791\n",
      "         1.0       0.87      0.99      0.92        73\n",
      "\n",
      "    accuracy                           0.99       864\n",
      "   macro avg       0.93      0.99      0.96       864\n",
      "weighted avg       0.99      0.99      0.99       864\n",
      "\n",
      "Trial 3 Accuracy: 0.9849537037037037\n",
      "Classification Report for Trial 3:               precision    recall  f1-score   support\n",
      "\n",
      "        -1.0       0.99      0.99      0.99       795\n",
      "         1.0       0.94      0.87      0.90        69\n",
      "\n",
      "    accuracy                           0.98       864\n",
      "   macro avg       0.96      0.93      0.95       864\n",
      "weighted avg       0.98      0.98      0.98       864\n",
      "\n",
      "Average Accuracy for 50% Training Data: 0.9861111111111112\n",
      "\n"
     ]
    }
   ],
   "source": [
    "# Code block for 50% split\n",
    "print(\"50% Training Data\")\n",
    "accuracies_50 = []\n",
    "for trial in range(3):\n",
    "    X_train, X_test, y_train, y_test = train_test_split(X, Y, train_size=0.5, random_state=None, shuffle=True)\n",
    "    scaler = MinMaxScaler()\n",
    "    X_train = scaler.fit_transform(X_train)\n",
    "    X_test = scaler.transform(X_test)\n",
    "    rf = RandomForestClassifier(**best_params_50)\n",
    "    rf.fit(X_train, y_train)\n",
    "    y_pred = rf.predict(X_test)\n",
    "    accuracy = accuracy_score(y_test, y_pred)\n",
    "    accuracies_50.append(accuracy)\n",
    "    print(f\"Trial {trial + 1} Accuracy: {accuracy}\")\n",
    "    print(f\"Classification Report for Trial {trial + 1}: {classification_report(y_test, y_pred)}\")\n",
    "print(f\"Average Accuracy for 50% Training Data: {np.mean(accuracies_50)}\\n\")"
   ]
  },
  {
   "cell_type": "code",
   "execution_count": 109,
   "metadata": {},
   "outputs": [
    {
     "name": "stdout",
     "output_type": "stream",
     "text": [
      "80% Training Data\n",
      "Trial 1 Accuracy: 0.9913294797687862\n",
      "Classification Report for Trial 1:              precision    recall  f1-score   support\n",
      "\n",
      "        -1.0       0.99      1.00      1.00       321\n",
      "         1.0       0.96      0.92      0.94        25\n",
      "\n",
      "    accuracy                           0.99       346\n",
      "   macro avg       0.98      0.96      0.97       346\n",
      "weighted avg       0.99      0.99      0.99       346\n",
      "\n",
      "Trial 2 Accuracy: 0.9913294797687862\n",
      "Classification Report for Trial 2:              precision    recall  f1-score   support\n",
      "\n",
      "        -1.0       1.00      0.99      1.00       326\n",
      "         1.0       0.90      0.95      0.93        20\n",
      "\n",
      "    accuracy                           0.99       346\n",
      "   macro avg       0.95      0.97      0.96       346\n",
      "weighted avg       0.99      0.99      0.99       346\n",
      "\n",
      "Trial 3 Accuracy: 0.9913294797687862\n",
      "Classification Report for Trial 3:              precision    recall  f1-score   support\n",
      "\n",
      "        -1.0       1.00      0.99      1.00       323\n",
      "         1.0       0.88      1.00      0.94        23\n",
      "\n",
      "    accuracy                           0.99       346\n",
      "   macro avg       0.94      1.00      0.97       346\n",
      "weighted avg       0.99      0.99      0.99       346\n",
      "\n",
      "Average Accuracy for 80% Training Data: 0.9913294797687863\n",
      "\n"
     ]
    }
   ],
   "source": [
    "# Code block for 80% split\n",
    "print(\"80% Training Data\")\n",
    "accuracies_80 = []\n",
    "for trial in range(3):\n",
    "    X_train, X_test, y_train, y_test = train_test_split(X, Y, train_size=0.8, random_state=None, shuffle=True)\n",
    "    scaler = MinMaxScaler()\n",
    "    X_train = scaler.fit_transform(X_train)\n",
    "    X_test = scaler.transform(X_test)\n",
    "    rf = RandomForestClassifier(**best_params_80)\n",
    "    rf.fit(X_train, y_train)\n",
    "    y_pred = rf.predict(X_test)\n",
    "    accuracy = accuracy_score(y_test, y_pred)\n",
    "    accuracies_80.append(accuracy)\n",
    "    print(f\"Trial {trial + 1} Accuracy: {accuracy}\")\n",
    "    print(f\"Classification Report for Trial {trial + 1}:{classification_report(y_test, y_pred)}\")\n",
    "print(f\"Average Accuracy for 80% Training Data: {np.mean(accuracies_80)}\\n\")"
   ]
  },
  {
   "cell_type": "code",
   "execution_count": 86,
   "metadata": {},
   "outputs": [
    {
     "data": {
      "text/plain": [
       "' from sklearn.model_selection import train_test_split, GridSearchCV\\nfrom sklearn.metrics import classification_report\\n\\nparam_grid = {\\'max_depth\\': [1, 2, 3, 4, 5]}\\nestimator = tree.DecisionTreeClassifier(criterion=\\'entropy\\')\\n\\n# Perform GridSearchCV\\ngrid_search = GridSearchCV(estimator, param_grid, cv=10, scoring=\"accuracy\")\\ngrid_search.fit(X, Y)\\n\\n# Get best hyperparameters\\nbest_params = grid_search.best_params_ '"
      ]
     },
     "execution_count": 86,
     "metadata": {},
     "output_type": "execute_result"
    }
   ],
   "source": [
    "\n",
    "\"\"\" from sklearn.model_selection import train_test_split, GridSearchCV\n",
    "from sklearn.metrics import classification_report\n",
    "\n",
    "param_grid = {'max_depth': [1, 2, 3, 4, 5]}\n",
    "estimator = tree.DecisionTreeClassifier(criterion='entropy')\n",
    "\n",
    "# Perform GridSearchCV\n",
    "grid_search = GridSearchCV(estimator, param_grid, cv=10, scoring=\"accuracy\")\n",
    "grid_search.fit(X, Y)\n",
    "\n",
    "# Get best hyperparameters\n",
    "best_params = grid_search.best_params_ \"\"\""
   ]
  },
  {
   "cell_type": "code",
   "execution_count": 85,
   "metadata": {},
   "outputs": [
    {
     "data": {
      "text/plain": [
       "' \\n\\nfrom sklearn.model_selection import train_test_split, GridSearchCV\\nfrom sklearn.metrics import classification_report\\nimport pandas as pd \\n#import seaborn as sns\\n\\npartitions = [0.2, 0.5, 0.8]\\n\\n# new list code \\ntrain_accuracies = []\\ntest_accuracies = []\\n\\n\\nfor partition in partitions:\\n\\n    # new code to remember errors\\n    partition_train_acc = []\\n    partition_test_acc = []\\n\\n    for trial in range(3):\\n        X_train, X_test, Y_train, Y_test = train_test_split(X, Y, train_size=partition)\\n\\n        best_model = DecisionTreeClassifier(criterion=\\'entropy\\', **best_params, random_state=None)\\n        # random state = None ensures a random data split within the partitions \\n\\n        # Fit the model\\n        best_model.fit(X_train, Y_train)\\n        \\n        # Calculate accuracies\\n        train_acc = best_model.score(X_train, Y_train)\\n        test_acc = best_model.score(X_test, Y_test)\\n\\n        # new code to remember the errors \\n        partition_train_acc.append(train_acc)\\n        partition_test_acc.append(test_acc)\\n\\n        y_pred = best_model.predict(X_test)\\n\\n        # Print classification report for predictions\\n        print(classification_report(Y_test, y_pred))\\n        \\n        # Print results for this trial directly\\n        print(f\"Partition: {partition*100:.0f}/100, Trial: {trial+1}\")\\n        print(f\"Train Accuracy: {train_acc:.4f}\")\\n        # print(f\"Validation Accuracy: {val_acc:.4f}\")\\n        print(f\"Test Accuracy: {test_acc:.4f}\")\\n\\n    # new code to remember errors\\n    avg_train_acc = np.mean(partition_train_acc)\\n    avg_test_acc = np.mean(partition_test_acc)\\n\\n    # Store average accuracies for this partition\\n    train_accuracies.append(avg_train_acc)\\n    test_accuracies.append(avg_test_acc)\\n\\n\\nresults_df = pd.DataFrame({\\n    \\'Partition\\': [f\"{partition*100:.0f}/100\" for partition in partitions],\\n    \\'Average Train Accuracy\\': train_accuracies,\\n    \\'Average Test Accuracy\\': test_accuracies,\\n})\\n\\nprint(\"\\nAverage Accuracies:\")\\nprint(results_df)\\n    \\n# verify if i need to d ogrid search before \\n# find best hyperparameter and then run the trials \\n# cross validation is used to find best parameters\\n     '"
      ]
     },
     "execution_count": 85,
     "metadata": {},
     "output_type": "execute_result"
    }
   ],
   "source": [
    "\"\"\" \n",
    "\n",
    "from sklearn.model_selection import train_test_split, GridSearchCV\n",
    "from sklearn.metrics import classification_report\n",
    "import pandas as pd \n",
    "#import seaborn as sns\n",
    "\n",
    "partitions = [0.2, 0.5, 0.8]\n",
    "\n",
    "# new list code \n",
    "train_accuracies = []\n",
    "test_accuracies = []\n",
    "\n",
    "\n",
    "for partition in partitions:\n",
    "\n",
    "    # new code to remember errors\n",
    "    partition_train_acc = []\n",
    "    partition_test_acc = []\n",
    "\n",
    "    for trial in range(3):\n",
    "        X_train, X_test, Y_train, Y_test = train_test_split(X, Y, train_size=partition)\n",
    "\n",
    "        best_model = DecisionTreeClassifier(criterion='entropy', **best_params, random_state=None)\n",
    "        # random state = None ensures a random data split within the partitions \n",
    "\n",
    "        # Fit the model\n",
    "        best_model.fit(X_train, Y_train)\n",
    "        \n",
    "        # Calculate accuracies\n",
    "        train_acc = best_model.score(X_train, Y_train)\n",
    "        test_acc = best_model.score(X_test, Y_test)\n",
    "\n",
    "        # new code to remember the errors \n",
    "        partition_train_acc.append(train_acc)\n",
    "        partition_test_acc.append(test_acc)\n",
    "\n",
    "        y_pred = best_model.predict(X_test)\n",
    "\n",
    "        # Print classification report for predictions\n",
    "        print(classification_report(Y_test, y_pred))\n",
    "        \n",
    "        # Print results for this trial directly\n",
    "        print(f\"Partition: {partition*100:.0f}/100, Trial: {trial+1}\")\n",
    "        print(f\"Train Accuracy: {train_acc:.4f}\")\n",
    "        # print(f\"Validation Accuracy: {val_acc:.4f}\")\n",
    "        print(f\"Test Accuracy: {test_acc:.4f}\")\n",
    "\n",
    "    # new code to remember errors\n",
    "    avg_train_acc = np.mean(partition_train_acc)\n",
    "    avg_test_acc = np.mean(partition_test_acc)\n",
    "\n",
    "    # Store average accuracies for this partition\n",
    "    train_accuracies.append(avg_train_acc)\n",
    "    test_accuracies.append(avg_test_acc)\n",
    "\n",
    "\n",
    "results_df = pd.DataFrame({\n",
    "    'Partition': [f\"{partition*100:.0f}/100\" for partition in partitions],\n",
    "    'Average Train Accuracy': train_accuracies,\n",
    "    'Average Test Accuracy': test_accuracies,\n",
    "})\n",
    "\n",
    "print(\"\\nAverage Accuracies:\")\n",
    "print(results_df)\n",
    "    \n",
    "# verify if i need to d ogrid search before \n",
    "# find best hyperparameter and then run the trials \n",
    "# cross validation is used to find best parameters\n",
    "     \"\"\""
   ]
  },
  {
   "cell_type": "code",
   "execution_count": 29,
   "metadata": {},
   "outputs": [
    {
     "data": {
      "image/png": "[encoded data removed]",
      "text/plain": [
       "<Figure size 200x400 with 2 Axes>"
      ]
     },
     "metadata": {},
     "output_type": "display_data"
    }
   ],
   "source": [
    "import seaborn as sns\n",
    "\n",
    "D_list = [1, 2, 3, 4, 5]\n",
    "\n",
    "def draw_heatmap(errors, D_list, title):\n",
    "    plt.figure(figsize = (2,4))\n",
    "    ax = sns.heatmap(errors, annot=True, fmt='.3f', yticklabels=D_list, xticklabels=[])\n",
    "    ax.collections[0].colorbar.set_label('error')\n",
    "    ax.set(ylabel='max depth D')\n",
    "    bottom, top = ax.get_ylim()\n",
    "    ax.set_ylim(bottom + 0.5, top - 0.5)\n",
    "    plt.title(title)\n",
    "    plt.show()\n",
    "\n",
    "\n",
    "cross_val_errors = 1 - grid_search.cv_results_['mean_test_score'].reshape(-1,1)\n",
    "draw_heatmap(cross_val_errors, D_list, title='cross-validation error w.r.t D')"
   ]
  },
  {
   "cell_type": "markdown",
   "metadata": {},
   "source": [
    "## "
   ]
  },
  {
   "cell_type": "code",
   "execution_count": null,
   "metadata": {},
   "outputs": [],
   "source": []
  },
  {
   "cell_type": "code",
   "execution_count": null,
   "metadata": {},
   "outputs": [],
   "source": []
  },
  {
   "cell_type": "code",
   "execution_count": null,
   "metadata": {},
   "outputs": [],
   "source": []
  },
  {
   "cell_type": "code",
   "execution_count": null,
   "metadata": {},
   "outputs": [],
   "source": []
  },
  {
   "cell_type": "code",
   "execution_count": null,
   "metadata": {},
   "outputs": [],
   "source": []
  }
 ],
 "metadata": {
  "kernelspec": {
   "display_name": "cogs118a",
   "language": "python",
   "name": "python3"
  },
  "language_info": {
   "codemirror_mode": {
    "name": "ipython",
    "version": 3
   },
   "file_extension": ".py",
   "mimetype": "text/x-python",
   "name": "python",
   "nbconvert_exporter": "python",
   "pygments_lexer": "ipython3",
   "version": "3.12.5"
  }
 },
 "nbformat": 4,
 "nbformat_minor": 2
}
